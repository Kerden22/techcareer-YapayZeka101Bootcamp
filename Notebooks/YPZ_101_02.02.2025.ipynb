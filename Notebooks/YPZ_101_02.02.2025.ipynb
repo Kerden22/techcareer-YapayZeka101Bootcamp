{
 "cells": [
  {
   "cell_type": "code",
   "execution_count": 1,
   "id": "3e1ba3ba",
   "metadata": {},
   "outputs": [],
   "source": [
    "# Döngüler , bir işlemi tekrar etmek gibi bir işlemimiz varsa burada döngülerü kullanırız.\n",
    "# DRY - Don't repeat Yourself "
   ]
  },
  {
   "cell_type": "code",
   "execution_count": 2,
   "id": "c4228d7e",
   "metadata": {},
   "outputs": [
    {
     "name": "stdout",
     "output_type": "stream",
     "text": [
      "lütfen isminizi giriniz : 12356\n",
      "Merhaba  12356\n",
      "Merhaba  12356\n",
      "Merhaba  12356\n",
      "Merhaba  12356\n",
      "Merhaba  12356\n",
      "Merhaba  12356\n"
     ]
    }
   ],
   "source": [
    "name = input(\"lütfen isminizi giriniz : \")\n",
    "\n",
    "\n",
    "#  0<= i < 6 \n",
    "for i in range(0,6,1):\n",
    "    print(\"Merhaba \",name)\n"
   ]
  },
  {
   "cell_type": "code",
   "execution_count": 3,
   "id": "8f6ef0dd",
   "metadata": {},
   "outputs": [],
   "source": [
    "# 1 den 20 ye kadar bütün sayıları ekran çıktısı olarak gösteren kodu yazınız"
   ]
  },
  {
   "cell_type": "code",
   "execution_count": 4,
   "id": "2fd611dc",
   "metadata": {},
   "outputs": [
    {
     "name": "stdout",
     "output_type": "stream",
     "text": [
      "1\n",
      "2\n",
      "3\n",
      "4\n",
      "5\n",
      "6\n",
      "7\n",
      "8\n",
      "9\n",
      "10\n",
      "11\n",
      "12\n",
      "13\n",
      "14\n",
      "15\n",
      "16\n",
      "17\n",
      "18\n",
      "19\n",
      "20\n"
     ]
    }
   ],
   "source": [
    "for i in range(1,21,1):\n",
    "    print(i)"
   ]
  },
  {
   "cell_type": "code",
   "execution_count": 5,
   "id": "98a8ad55",
   "metadata": {},
   "outputs": [],
   "source": [
    "# 1 den 20 ye kadar tek sayıları ekran çıktısı olarak veren kodu yazınız."
   ]
  },
  {
   "cell_type": "code",
   "execution_count": 6,
   "id": "edee3854",
   "metadata": {},
   "outputs": [
    {
     "name": "stdout",
     "output_type": "stream",
     "text": [
      "1\n",
      "3\n",
      "5\n",
      "7\n",
      "9\n",
      "11\n",
      "13\n",
      "15\n",
      "17\n",
      "19\n"
     ]
    }
   ],
   "source": [
    "# 1 3 5 7 9 11 13 15 17 19 \n",
    "for i in range(1,21,2):\n",
    "    print(i)"
   ]
  },
  {
   "cell_type": "code",
   "execution_count": 7,
   "id": "05fa39b3",
   "metadata": {},
   "outputs": [],
   "source": [
    "# 1 den 10 a kadar tüm sayıları yazdırsın ama sayı çift ise şu şekilde Tek sayı : 1 Çift sayı : 2 "
   ]
  },
  {
   "cell_type": "code",
   "execution_count": 8,
   "id": "15da6d4d",
   "metadata": {},
   "outputs": [
    {
     "name": "stdout",
     "output_type": "stream",
     "text": [
      "Tek sayı :  1\n",
      "Çift sayı :  2\n",
      "Tek sayı :  3\n",
      "Çift sayı :  4\n",
      "Tek sayı :  5\n",
      "Çift sayı :  6\n",
      "Tek sayı :  7\n",
      "Çift sayı :  8\n",
      "Tek sayı :  9\n",
      "Çift sayı :  10\n"
     ]
    }
   ],
   "source": [
    "for i in range(1,11):\n",
    "    if i %2==0:\n",
    "        print('Çift sayı : ',i)\n",
    "    else:\n",
    "        print('Tek sayı : ',i)"
   ]
  },
  {
   "cell_type": "code",
   "execution_count": 9,
   "id": "9b18a299",
   "metadata": {},
   "outputs": [
    {
     "name": "stdout",
     "output_type": "stream",
     "text": [
      "8\n"
     ]
    }
   ],
   "source": [
    "# len fonksiyonu : string veya bir kolleksiyon yapısının kaç elemanlı olduğunu gösterir.\n",
    "metin = \"Selamlar\"\n",
    "karakter_sayisi = len(metin)\n",
    "print(karakter_sayisi)"
   ]
  },
  {
   "cell_type": "code",
   "execution_count": 10,
   "id": "cd55de56",
   "metadata": {},
   "outputs": [
    {
     "name": "stdout",
     "output_type": "stream",
     "text": [
      "5\n"
     ]
    }
   ],
   "source": [
    "fruits = ['Kayısı','Elma','Kiraz','Üzüm','Armut']\n",
    "liste_eleman_sayisi = len(fruits)\n",
    "print(liste_eleman_sayisi)"
   ]
  },
  {
   "cell_type": "code",
   "execution_count": 11,
   "id": "1a07fab5",
   "metadata": {},
   "outputs": [
    {
     "name": "stdout",
     "output_type": "stream",
     "text": [
      "1 . öğrenci :  Berker ERYILMAZ\n",
      "2 . öğrenci :  Sümeyra Eraslan\n",
      "3 . öğrenci :  Emine Kılıç\n",
      "4 . öğrenci :  Burak Taşkın\n",
      "5 . öğrenci :  Cavit Batu Soylu\n",
      "6 . öğrenci :  Ece Özcan\n"
     ]
    }
   ],
   "source": [
    "# for range yöntemi\n",
    "ogrenciler = ['Berker ERYILMAZ','Sümeyra Eraslan','Emine Kılıç','Burak Taşkın','Cavit Batu Soylu','Ece Özcan']\n",
    "for i in range(0,6):\n",
    "    print(i+1,'. öğrenci : ', ogrenciler[i])"
   ]
  },
  {
   "cell_type": "code",
   "execution_count": 12,
   "id": "50bdfdb2",
   "metadata": {},
   "outputs": [
    {
     "name": "stdout",
     "output_type": "stream",
     "text": [
      "1 . öğrenci :  Berker ERYILMAZ\n",
      "2 . öğrenci :  Sümeyra Eraslan\n",
      "3 . öğrenci :  Emine Kılıç\n",
      "4 . öğrenci :  Burak Taşkın\n",
      "5 . öğrenci :  Cavit Batu Soylu\n",
      "6 . öğrenci :  Ece Özcan\n"
     ]
    }
   ],
   "source": [
    "for index,ogrenci in enumerate(ogrenciler):\n",
    "    print(index+1,'. öğrenci : ',ogrenci)"
   ]
  },
  {
   "cell_type": "code",
   "execution_count": 13,
   "id": "f7d9cc5a",
   "metadata": {},
   "outputs": [
    {
     "name": "stdout",
     "output_type": "stream",
     "text": [
      "10\n",
      "9\n",
      "8\n",
      "7\n",
      "6\n",
      "5\n",
      "4\n",
      "3\n",
      "2\n",
      "1\n"
     ]
    }
   ],
   "source": [
    "for i in range(10,0,-1):\n",
    "    print(i)"
   ]
  },
  {
   "cell_type": "code",
   "execution_count": 14,
   "id": "ff933479",
   "metadata": {},
   "outputs": [
    {
     "name": "stdout",
     "output_type": "stream",
     "text": [
      "SELAMLAR BEN BUSE DOĞAN\n"
     ]
    }
   ],
   "source": [
    "#Kullanıcıdan 3 tane kelime al her aldığı kelimeyi hepsini Alt alta ve büyük harflerini yazsın\n",
    "metin = 'selamlar ben buse doğan'\n",
    "print(metin.upper())"
   ]
  },
  {
   "cell_type": "code",
   "execution_count": 15,
   "id": "750b480b",
   "metadata": {},
   "outputs": [
    {
     "name": "stdout",
     "output_type": "stream",
     "text": [
      "Lütfen kelime giriniz : kljjkh\n",
      "K\n",
      "L\n",
      "J\n",
      "J\n",
      "K\n",
      "H\n",
      "Lütfen kelime giriniz : Buse\n",
      "B\n",
      "U\n",
      "S\n",
      "E\n",
      "Lütfen kelime giriniz : Doğan\n",
      "D\n",
      "O\n",
      "Ğ\n",
      "A\n",
      "N\n"
     ]
    }
   ],
   "source": [
    "for i in range(3):\n",
    "    metin = input('Lütfen kelime giriniz : ')\n",
    "    for harf in metin:\n",
    "        buyuk_harf = harf.upper()\n",
    "        print(buyuk_harf)"
   ]
  },
  {
   "cell_type": "code",
   "execution_count": 16,
   "id": "e95026eb",
   "metadata": {},
   "outputs": [],
   "source": [
    "# döngü kontrol mekanizmaları : break , continiue, pass "
   ]
  },
  {
   "cell_type": "code",
   "execution_count": 17,
   "id": "65e01d82",
   "metadata": {},
   "outputs": [
    {
     "name": "stdout",
     "output_type": "stream",
     "text": [
      "0\n",
      "1\n",
      "2\n",
      "3\n",
      "4\n",
      "5\n"
     ]
    }
   ],
   "source": [
    "# break : Döngüde belli koşullar sağlandığı zaman döngüyü sonlandırır.\n",
    "for i in range(10):\n",
    "    print(i)\n",
    "    if i == 5 :\n",
    "        break"
   ]
  },
  {
   "cell_type": "code",
   "execution_count": 18,
   "id": "2090dc1f",
   "metadata": {},
   "outputs": [
    {
     "name": "stdout",
     "output_type": "stream",
     "text": [
      "0\n",
      "1\n",
      "2\n",
      "4\n",
      "5\n",
      "6\n",
      "7\n",
      "8\n",
      "9\n",
      "10\n",
      "11\n",
      "12\n",
      "13\n",
      "14\n"
     ]
    }
   ],
   "source": [
    "# continue : Döngüde belli koşullar sağlandığı zaman o koşulu atlayan komut\n",
    "for i in range(15):\n",
    "    if i ==3:\n",
    "        continue\n",
    "    print(i)"
   ]
  },
  {
   "cell_type": "code",
   "execution_count": 19,
   "id": "32384948",
   "metadata": {},
   "outputs": [
    {
     "name": "stdout",
     "output_type": "stream",
     "text": [
      "1\n",
      "3\n",
      "5\n",
      "7\n",
      "9\n",
      "11\n",
      "13\n"
     ]
    }
   ],
   "source": [
    "for i in range(15):\n",
    "    if i %2==0:\n",
    "        continue\n",
    "    print(i)"
   ]
  },
  {
   "cell_type": "code",
   "execution_count": 20,
   "id": "9e680198",
   "metadata": {},
   "outputs": [],
   "source": [
    "# pass  : Python da bir kod bloğunu boş bırakmak için kullanılır."
   ]
  },
  {
   "cell_type": "code",
   "execution_count": 21,
   "id": "4488d54c",
   "metadata": {},
   "outputs": [
    {
     "name": "stdout",
     "output_type": "stream",
     "text": [
      "0\n",
      "1\n",
      "3\n",
      "4\n"
     ]
    }
   ],
   "source": [
    "for i in range(5):\n",
    "    if i ==2:\n",
    "        pass\n",
    "    else:\n",
    "        print(i)"
   ]
  },
  {
   "cell_type": "code",
   "execution_count": 22,
   "id": "877b0a48",
   "metadata": {},
   "outputs": [
    {
     "name": "stdout",
     "output_type": "stream",
     "text": [
      "1 * 1 =  1\t1 * 2 =  2\t1 * 3 =  3\t1 * 4 =  4\t1 * 5 =  5\t1 * 6 =  6\t1 * 7 =  7\t1 * 8 =  8\t1 * 9 =  9\t1 * 10 =  10\t\n",
      "2 * 1 =  2\t2 * 2 =  4\t2 * 3 =  6\t2 * 4 =  8\t2 * 5 =  10\t2 * 6 =  12\t2 * 7 =  14\t2 * 8 =  16\t2 * 9 =  18\t2 * 10 =  20\t\n",
      "3 * 1 =  3\t3 * 2 =  6\t3 * 3 =  9\t3 * 4 =  12\t3 * 5 =  15\t3 * 6 =  18\t3 * 7 =  21\t3 * 8 =  24\t3 * 9 =  27\t3 * 10 =  30\t\n",
      "4 * 1 =  4\t4 * 2 =  8\t4 * 3 =  12\t4 * 4 =  16\t4 * 5 =  20\t4 * 6 =  24\t4 * 7 =  28\t4 * 8 =  32\t4 * 9 =  36\t4 * 10 =  40\t\n",
      "5 * 1 =  5\t5 * 2 =  10\t5 * 3 =  15\t5 * 4 =  20\t5 * 5 =  25\t5 * 6 =  30\t5 * 7 =  35\t5 * 8 =  40\t5 * 9 =  45\t5 * 10 =  50\t\n",
      "6 * 1 =  6\t6 * 2 =  12\t6 * 3 =  18\t6 * 4 =  24\t6 * 5 =  30\t6 * 6 =  36\t6 * 7 =  42\t6 * 8 =  48\t6 * 9 =  54\t6 * 10 =  60\t\n",
      "7 * 1 =  7\t7 * 2 =  14\t7 * 3 =  21\t7 * 4 =  28\t7 * 5 =  35\t7 * 6 =  42\t7 * 7 =  49\t7 * 8 =  56\t7 * 9 =  63\t7 * 10 =  70\t\n",
      "8 * 1 =  8\t8 * 2 =  16\t8 * 3 =  24\t8 * 4 =  32\t8 * 5 =  40\t8 * 6 =  48\t8 * 7 =  56\t8 * 8 =  64\t8 * 9 =  72\t8 * 10 =  80\t\n",
      "9 * 1 =  9\t9 * 2 =  18\t9 * 3 =  27\t9 * 4 =  36\t9 * 5 =  45\t9 * 6 =  54\t9 * 7 =  63\t9 * 8 =  72\t9 * 9 =  81\t9 * 10 =  90\t\n",
      "10 * 1 =  10\t10 * 2 =  20\t10 * 3 =  30\t10 * 4 =  40\t10 * 5 =  50\t10 * 6 =  60\t10 * 7 =  70\t10 * 8 =  80\t10 * 9 =  90\t10 * 10 =  100\t\n"
     ]
    }
   ],
   "source": [
    "# i = 1 , j= 1 , 2 ,3 , 4 ,5 , 6 , 7 ,8 , 9 , 10\n",
    "for i in range(1,11):\n",
    "    for j in range(1,11):\n",
    "        print((i),'*',(j),'= ',(i*j), end='\\t')\n",
    "    print()"
   ]
  },
  {
   "cell_type": "code",
   "execution_count": 23,
   "id": "cfc23cc3",
   "metadata": {},
   "outputs": [
    {
     "name": "stdout",
     "output_type": "stream",
     "text": [
      "Sayıların toplamı :  274\n",
      "Sayıların ortalaması :  30.444444444444443\n"
     ]
    }
   ],
   "source": [
    "# numbers dizisi içerisinde tüm elmanların toplamını ve aritmetik ortalamasını alan fonksiyonu yazınız.\n",
    "numbers = [1,2,65,78,88,-52,45,15,32]\n",
    "toplam = 0\n",
    "for i in range(9):\n",
    "    sayi = numbers[i]\n",
    "    toplam += sayi\n",
    "print('Sayıların toplamı : ',toplam)\n",
    "ortalama = toplam/9\n",
    "print('Sayıların ortalaması : ',ortalama)"
   ]
  },
  {
   "cell_type": "code",
   "execution_count": 24,
   "id": "b5cdc002",
   "metadata": {},
   "outputs": [
    {
     "name": "stdout",
     "output_type": "stream",
     "text": [
      "Sayıların toplamı :  551\n",
      "Sayıların ortalaması :  42.38461538461539\n"
     ]
    }
   ],
   "source": [
    "numbers = [1,2,65,78,88,-52,45,15,32,45,54,78,100]\n",
    "toplam = 0\n",
    "for i in range(len(numbers)):\n",
    "    sayi = numbers[i]\n",
    "    toplam += sayi\n",
    "print('Sayıların toplamı : ',toplam)\n",
    "ortalama = toplam/len(numbers)\n",
    "print('Sayıların ortalaması : ',ortalama)"
   ]
  },
  {
   "cell_type": "code",
   "execution_count": 25,
   "id": "d57bd66d",
   "metadata": {},
   "outputs": [
    {
     "name": "stdout",
     "output_type": "stream",
     "text": [
      "Sayıların toplamı :  551\n",
      "Sayıların ortalaması :  42.38461538461539\n"
     ]
    }
   ],
   "source": [
    "numbers = [1,2,65,78,88,-52,45,15,32,45,54,78,100]\n",
    "toplam = 0\n",
    "for sayi in numbers:\n",
    "    toplam += sayi\n",
    "print('Sayıların toplamı : ',toplam)\n",
    "ortalama = toplam/len(numbers)\n",
    "print('Sayıların ortalaması : ',ortalama)"
   ]
  },
  {
   "cell_type": "code",
   "execution_count": 26,
   "id": "f57dc722",
   "metadata": {},
   "outputs": [
    {
     "name": "stdout",
     "output_type": "stream",
     "text": [
      "Lütfen kullanıcı adını giriniz : admin\n",
      "Lütfen parola giriniz : 12345\n",
      "Parola alanı minimum 6 karakterli olmalıdır.\n"
     ]
    }
   ],
   "source": [
    "# kullanıcı adı : admin \n",
    "# parola : 12345 \n",
    "kullanici_adi = \"admin\"\n",
    "parola = \"123456\" \n",
    "\n",
    "for i in range(2,0,-1):\n",
    "    username = input('Lütfen kullanıcı adını giriniz : ')\n",
    "    password = input('Lütfen parola giriniz : ')\n",
    "    \n",
    "    if len(username)<2:\n",
    "        print('Kullanıcı adı alanı minimum 2 haneli olmalıdır.')\n",
    "        break\n",
    "    elif len(password)<6:\n",
    "        print('Parola alanı minimum 6 karakterli olmalıdır.')\n",
    "        break\n",
    "    \n",
    "    else:\n",
    "        if kullanici_adi == username and parola == password:\n",
    "            print('giriş başarılı....')\n",
    "            break\n",
    "        else:\n",
    "            if i ==1:\n",
    "                print('Hakkınız dolmuştur')\n",
    "            else:\n",
    "                print('Parola veya kullanıcı adı yanlış.')\n",
    "                print(i-1,'Hakkınız kaldı tekrar deneyiniz.')\n"
   ]
  },
  {
   "cell_type": "code",
   "execution_count": 27,
   "id": "a51217c9",
   "metadata": {},
   "outputs": [
    {
     "name": "stdout",
     "output_type": "stream",
     "text": [
      "Parola giriniz : 123\n",
      "Girmiş olduğunuz şifre yanlıştır. \n",
      " tekrar deneyiniz\n",
      "Parola giriniz : 456\n",
      "Girmiş olduğunuz şifre yanlıştır. \n",
      " tekrar deneyiniz\n",
      "Parola giriniz : 1234\n",
      "Parola Doğru başarılar: \n"
     ]
    }
   ],
   "source": [
    "# while : belirli koşul sağlandığında çalışan döngü çeşitidir.\n",
    "dogru_sifre = \"1234\"\n",
    "sifre = \"\"\n",
    "while sifre !=dogru_sifre:\n",
    "    sifre = input('Parola giriniz : ')\n",
    "    if sifre != dogru_sifre:\n",
    "        print('Girmiş olduğunuz şifre yanlıştır. \\n tekrar deneyiniz')\n",
    "    else:\n",
    "        print('Parola Doğru tebrikler: ')\n",
    "        break"
   ]
  },
  {
   "cell_type": "code",
   "execution_count": 28,
   "id": "633b4732",
   "metadata": {},
   "outputs": [],
   "source": [
    "# fonksiyonlar nedir ? kod tekrarını önleyen hazır yapılar olarak karşımıza gelir."
   ]
  },
  {
   "cell_type": "code",
   "execution_count": 29,
   "id": "34f9407c",
   "metadata": {},
   "outputs": [],
   "source": [
    "# string fonksiyonları : \n",
    "# Büyük küçük harf Dönüştürme işlemleri \n",
    "\n",
    "metin = 'selamlar'\n",
    "metin1 = \"SELAMLAR\""
   ]
  },
  {
   "cell_type": "code",
   "execution_count": 30,
   "id": "38a78d35",
   "metadata": {},
   "outputs": [
    {
     "name": "stdout",
     "output_type": "stream",
     "text": [
      "SELAMLAR\n"
     ]
    }
   ],
   "source": [
    "# upper() : Tüm harfleri   büyük harfe çevirir.\n",
    "buyuk_metin = metin.upper()\n",
    "print(buyuk_metin)"
   ]
  },
  {
   "cell_type": "code",
   "execution_count": 31,
   "id": "d3554123",
   "metadata": {},
   "outputs": [
    {
     "name": "stdout",
     "output_type": "stream",
     "text": [
      "selamlar\n"
     ]
    }
   ],
   "source": [
    "#lower(): Tüm harfleri küçük harfe çevirir.\n",
    "kucuk_metin = metin1.lower()\n",
    "print(kucuk_metin)"
   ]
  },
  {
   "cell_type": "code",
   "execution_count": 32,
   "id": "7c27ebb1",
   "metadata": {},
   "outputs": [],
   "source": [
    "text = \"gece gündüz peşimdeler peşimde\""
   ]
  },
  {
   "cell_type": "code",
   "execution_count": 33,
   "id": "d1f3c977",
   "metadata": {},
   "outputs": [
    {
     "name": "stdout",
     "output_type": "stream",
     "text": [
      "Gece Gündüz Peşimdeler Peşimde\n"
     ]
    }
   ],
   "source": [
    "# title() : Her kelimenin ilk harfini Büyük harfe çevirir.\n",
    "title_text = text.title()\n",
    "print(title_text)"
   ]
  },
  {
   "cell_type": "code",
   "execution_count": 34,
   "id": "d69db61e",
   "metadata": {},
   "outputs": [
    {
     "name": "stdout",
     "output_type": "stream",
     "text": [
      "Gece gündüz peşimdeler peşimde\n"
     ]
    }
   ],
   "source": [
    "# capitalize() : Metnin sadece ilk harfini Büyük harfe çevirir.\n",
    "capitalize_text = text.capitalize()\n",
    "print(capitalize_text)"
   ]
  },
  {
   "cell_type": "code",
   "execution_count": 35,
   "id": "e91138ad",
   "metadata": {},
   "outputs": [
    {
     "name": "stdout",
     "output_type": "stream",
     "text": [
      "sElAmLaR\n"
     ]
    }
   ],
   "source": [
    "# swapcase() : Küçük harfleri büyük , Büyük harfleri küçük harfe çevirir\n",
    "text1 = \"SeLaMlAr\"\n",
    "swap_text = text1.swapcase()\n",
    "print(swap_text)"
   ]
  },
  {
   "cell_type": "code",
   "execution_count": 36,
   "id": "54528c5a",
   "metadata": {},
   "outputs": [
    {
     "name": "stdout",
     "output_type": "stream",
     "text": [
      "**Python**\n"
     ]
    }
   ],
   "source": [
    "# Biçimlendirme ve hizalandırma : \n",
    "s = 'Python'\n",
    "print(s.center(10,'*'))"
   ]
  },
  {
   "cell_type": "code",
   "execution_count": 37,
   "id": "78925711",
   "metadata": {},
   "outputs": [
    {
     "name": "stdout",
     "output_type": "stream",
     "text": [
      "Python----\n"
     ]
    }
   ],
   "source": [
    "print(s.ljust(10,'-'))"
   ]
  },
  {
   "cell_type": "code",
   "execution_count": 38,
   "id": "fa5a0ffb",
   "metadata": {},
   "outputs": [
    {
     "name": "stdout",
     "output_type": "stream",
     "text": [
      "++++Python\n"
     ]
    }
   ],
   "source": [
    "print(s.rjust(10,'+'))"
   ]
  },
  {
   "cell_type": "code",
   "execution_count": 40,
   "id": "9dd59a5f",
   "metadata": {},
   "outputs": [
    {
     "name": "stdout",
     "output_type": "stream",
     "text": [
      "['Elma', 'Çilek', 'Armut', 'Karpuz']\n",
      "<class 'list'>\n"
     ]
    }
   ],
   "source": [
    "# parçalama birleştirme işlemleri \n",
    "meyve_string = 'Elma,Çilek,Armut,Karpuz'\n",
    "meyveler = meyve_string.split(',')\n",
    "print(meyveler)\n",
    "print(type(meyveler))"
   ]
  },
  {
   "cell_type": "code",
   "execution_count": 41,
   "id": "518feeb7",
   "metadata": {},
   "outputs": [
    {
     "name": "stdout",
     "output_type": "stream",
     "text": [
      "Bugün Yapay Zeka eğitiminin 2. günü \n",
      " Konularımız : \n",
      " Döngüler, fonksiyonlar, listeler\n"
     ]
    }
   ],
   "source": [
    "line_text = 'Bugün Yapay Zeka eğitiminin 2. günü \\n Konularımız : \\n Döngüler, fonksiyonlar, listeler'\n",
    "print(line_text)"
   ]
  },
  {
   "cell_type": "code",
   "execution_count": 44,
   "id": "9fa6fe3d",
   "metadata": {},
   "outputs": [
    {
     "name": "stdout",
     "output_type": "stream",
     "text": [
      "['Bugün Yapay Zeka eğitiminin 2. günü ', ' Konularımız : ', ' Döngüler, fonksiyonlar, listeler']\n"
     ]
    }
   ],
   "source": [
    "new_list = line_text.splitlines()\n",
    "print(new_list)"
   ]
  },
  {
   "cell_type": "code",
   "execution_count": 49,
   "id": "f7289de9",
   "metadata": {},
   "outputs": [
    {
     "name": "stdout",
     "output_type": "stream",
     "text": [
      "dünya kelimesi ilk olarak  8 . indexte geçmiştir\n",
      "dünya kelimesi son olarak  16 . indexte geçmiştir\n",
      "Merhaba evren , evren iyidir.\n"
     ]
    }
   ],
   "source": [
    "# Arama ve Değiştirme\n",
    "txt = 'Merhaba dünya , dünya iyidir.'\n",
    "dunya_baslangic_index = txt.find('dünya')\n",
    "print('dünya kelimesi ilk olarak ',dunya_baslangic_index,'. indexte geçmiştir')\n",
    "\n",
    "dunya_sondaki_index = txt.rfind('dünya')\n",
    "print('dünya kelimesi son olarak ',dunya_sondaki_index,'. indexte geçmiştir')\n",
    "\n",
    "degistirilmis_txt = txt.replace('dünya','evren')\n",
    "print(degistirilmis_txt)"
   ]
  },
  {
   "cell_type": "code",
   "execution_count": 52,
   "id": "d44836d0",
   "metadata": {},
   "outputs": [
    {
     "name": "stdout",
     "output_type": "stream",
     "text": [
      "dosyanın sonu xlsx ile bitiyor mu : True\n",
      "dosyanın sonu cvd ile başlıyor mu : False\n"
     ]
    }
   ],
   "source": [
    "# Başlangıç ve bitiş fonksyionları : \n",
    "data = 'covid.xlsx'\n",
    "ends = data.endswith('.xlsx')\n",
    "starts = data.startswith('cvd')\n",
    "print('dosyanın sonu xlsx ile bitiyor mu :',ends)\n",
    "print('dosyanın sonu cvd ile başlıyor mu :',starts)"
   ]
  },
  {
   "cell_type": "code",
   "execution_count": 56,
   "id": "4ce5e2b6",
   "metadata": {},
   "outputs": [
    {
     "name": "stdout",
     "output_type": "stream",
     "text": [
      "      python                         \n",
      "python\n",
      "python                         \n",
      "      python\n"
     ]
    }
   ],
   "source": [
    "white = '      python                         '\n",
    "print(white)\n",
    "print(white.strip())\n",
    "print(white.lstrip())\n",
    "print(white.rstrip())"
   ]
  },
  {
   "cell_type": "code",
   "execution_count": 57,
   "id": "69f0e37f",
   "metadata": {},
   "outputs": [
    {
     "name": "stdout",
     "output_type": "stream",
     "text": [
      "True\n",
      "False\n"
     ]
    }
   ],
   "source": [
    "# String içeriği kontrolleri\n",
    "print('Merhaba'.isalpha()) # isalpha : Sadece harfler var ise True döner\n",
    "print('Merhaba.'.isalpha())"
   ]
  },
  {
   "cell_type": "code",
   "execution_count": 58,
   "id": "bec56389",
   "metadata": {},
   "outputs": [
    {
     "name": "stdout",
     "output_type": "stream",
     "text": [
      "True\n",
      "False\n"
     ]
    }
   ],
   "source": [
    "print('12345'.isdigit()) # isdigit : Sadece rakamlar var ise true döner\n",
    "print('12345A'.isdigit())"
   ]
  },
  {
   "cell_type": "code",
   "execution_count": 59,
   "id": "3087951e",
   "metadata": {},
   "outputs": [
    {
     "name": "stdout",
     "output_type": "stream",
     "text": [
      "True\n",
      "False\n"
     ]
    }
   ],
   "source": [
    "print('123456ABC'.isalnum()) #isalnum : Metin içerisinde sadece harf ve rakam buluyorsa true döner\n",
    "print('123456ABC!'.isalnum())"
   ]
  },
  {
   "cell_type": "code",
   "execution_count": 60,
   "id": "b7f96cfc",
   "metadata": {},
   "outputs": [
    {
     "name": "stdout",
     "output_type": "stream",
     "text": [
      "True\n",
      "False\n"
     ]
    }
   ],
   "source": [
    "print('            '.isspace())\n",
    "print('         asd'.isspace())"
   ]
  },
  {
   "cell_type": "code",
   "execution_count": 61,
   "id": "275cc67d",
   "metadata": {},
   "outputs": [
    {
     "name": "stdout",
     "output_type": "stream",
     "text": [
      "True\n",
      "True\n",
      "True\n"
     ]
    }
   ],
   "source": [
    "print(\"HELLO\".isupper()) # isupper : Metin içerisinde sadee büyük harf bulunuyorsa\n",
    "print(\"hello\".islower()) # islower : Metin içerisinde sadee küçük harf bulunuyorsa\n",
    "print('Hello World'.istitle()) # istitle : Tüm kelimeler büyük harfle başlarsa True döner"
   ]
  },
  {
   "cell_type": "code",
   "execution_count": 62,
   "id": "18e0574a",
   "metadata": {},
   "outputs": [
    {
     "name": "stdout",
     "output_type": "stream",
     "text": [
      "Benim adım Buse, soyadım Doğan, yaşım 26\n"
     ]
    }
   ],
   "source": [
    "# format : bir stringin içerisine farklı değişkenler göstermemizi sağlayan fonksiyonlardır.\n",
    "name = 'Buse'\n",
    "surname = 'Doğan'\n",
    "age = 26\n",
    "print('Benim adım {}, soyadım {}, yaşım {}'.format(name,surname,age))"
   ]
  },
  {
   "cell_type": "code",
   "execution_count": 65,
   "id": "8f8e0a98",
   "metadata": {},
   "outputs": [
    {
     "name": "stdout",
     "output_type": "stream",
     "text": [
      "Benim adım Evren, soyadım Doğan, yaşım 28\n"
     ]
    }
   ],
   "source": [
    "print('Benim adım {isim}, soyadım {soyad}, yaşım {yas}'.format(isim=\"Evren\",soyad=\"Doğan\",yas=28))"
   ]
  },
  {
   "cell_type": "code",
   "execution_count": 66,
   "id": "5a88a200",
   "metadata": {},
   "outputs": [
    {
     "name": "stdout",
     "output_type": "stream",
     "text": [
      "Benim adım Buse, soyadım Doğan, yaşım 26\n"
     ]
    }
   ],
   "source": [
    "print(f'Benim adım {name}, soyadım {surname}, yaşım {age}')"
   ]
  },
  {
   "cell_type": "code",
   "execution_count": 67,
   "id": "9dacdef5",
   "metadata": {},
   "outputs": [],
   "source": [
    "# Listeler : birden fazla öğeyi saklamak için kullandığımız veri yapısıdır.\n",
    "# Listeler farklı veri tiplerini barındırabilir."
   ]
  },
  {
   "cell_type": "code",
   "execution_count": 69,
   "id": "72823ce7",
   "metadata": {},
   "outputs": [
    {
     "name": "stdout",
     "output_type": "stream",
     "text": [
      "['Python', 1, 2, 3, 4, 5, True, None]\n"
     ]
    }
   ],
   "source": [
    "# Boş liste\n",
    "liste = []\n",
    "liste_bos = list()\n",
    "sayilar = [1,2,3,6,8]\n",
    "\n",
    "karisik_liste = ['Python', 1 , 2 , 3 , 4 ,5,True,None]\n",
    "print(karisik_liste)"
   ]
  },
  {
   "cell_type": "code",
   "execution_count": 75,
   "id": "03ae227f",
   "metadata": {},
   "outputs": [
    {
     "name": "stdout",
     "output_type": "stream",
     "text": [
      "Elazığ\n",
      "Adıyaman\n",
      "7\n",
      "['Elazığ', 'Adıyaman', 'Malatya', 'Eskişehir', 'İzmir', 'Ankara', 'İstanbul']\n"
     ]
    }
   ],
   "source": [
    "sehirler = ['İstanbul','Ankara','İzmir','Eskişehir','Malatya','Adıyaman','Elazığ']\n",
    "#             0           1        2        3           4          5        6  \n",
    "print(sehirler[-1]) # - ile başlayan index sorguları sondan kaçıncı eleman isteniyorsa onu getirir\n",
    "print(sehirler[-2]) # sehirler listesinin sondan 2. elemanı \n",
    "\n",
    "# append() : listeye eleman ekler.\n",
    "ters_liste = []\n",
    "print(len(sehirler))\n",
    "for i in range(len(sehirler)-1,-1,-1):\n",
    "    ters_liste.append(sehirler[i])\n",
    "print(ters_liste)"
   ]
  },
  {
   "cell_type": "code",
   "execution_count": 76,
   "id": "2954ec0c",
   "metadata": {},
   "outputs": [
    {
     "name": "stdout",
     "output_type": "stream",
     "text": [
      "['Elazığ', 'Adıyaman', 'Malatya', 'Eskişehir', 'İzmir', 'Ankara', 'İstanbul']\n"
     ]
    }
   ],
   "source": [
    "ters_liste2 = sehirler[::-1]\n",
    "print(ters_liste2)"
   ]
  },
  {
   "cell_type": "code",
   "execution_count": 78,
   "id": "23e5bf76",
   "metadata": {},
   "outputs": [
    {
     "name": "stdout",
     "output_type": "stream",
     "text": [
      "['Elazığ', 'Adıyaman', 'Malatya', 'Eskişehir', 'İzmir', 'Ankara', 'İstanbul']\n"
     ]
    }
   ],
   "source": [
    "ters_liste3 = reversed(sehirler)\n",
    "print(list(ters_liste3))"
   ]
  },
  {
   "cell_type": "code",
   "execution_count": 82,
   "id": "605cebbf",
   "metadata": {},
   "outputs": [
    {
     "name": "stdout",
     "output_type": "stream",
     "text": [
      "['Fransa', 'İngiltere', 'Türkiye', 'Yunanistan']\n",
      "['Fransa', 'İngiltere', 'Türkiye', 'Yunanistan']\n",
      "['Almanya', 'Fransa', 'İngiltere', 'Türkiye']\n",
      "['Türkiye', 'Yunanistan', 'Bulgaristan']\n"
     ]
    }
   ],
   "source": [
    "countries = ['Almanya','Fransa','İngiltere','Türkiye','Yunanistan','Bulgaristan']\n",
    "#               0          1       2          3            4            5\n",
    "# 1. indexten 4. index e kadar vütün verileri ayrı bir listede tutsun\n",
    "lst1 = []\n",
    "for i in range(1,5):\n",
    "    lst1.append(countries[i])\n",
    "print(lst1)\n",
    "\n",
    "\n",
    "lst1_kisa = countries[1:5]\n",
    "print(lst1_kisa)\n",
    "\n",
    "# ilk 3 veriyi ayrı bir listede tutsun\n",
    "lst2 = countries[:4]\n",
    "print(lst2)\n",
    "\n",
    "# 3. indexten itibaren bütün verileri ayrı bir listede tutsun\n",
    "lst3 = countries[3:]\n",
    "print(lst3)"
   ]
  },
  {
   "cell_type": "code",
   "execution_count": 84,
   "id": "1e329b48",
   "metadata": {},
   "outputs": [
    {
     "name": "stdout",
     "output_type": "stream",
     "text": [
      "[1, 2, 5, 3, 4]\n"
     ]
    }
   ],
   "source": [
    "# liste fonksiyonları : \n",
    "my_list = [1,2,3]\n",
    "\n",
    "my_list.append(4)\n",
    "\n",
    "\n",
    "my_list.insert(2,5)  # insert(index,deger) indexe göre ekleme işlemi yapılır.\n",
    "print(my_list)"
   ]
  },
  {
   "cell_type": "code",
   "execution_count": 91,
   "id": "e3e855fd",
   "metadata": {},
   "outputs": [
    {
     "name": "stdout",
     "output_type": "stream",
     "text": [
      "[10, 20, 30, 40, 50, 60, 70, 80, 90, 100]\n"
     ]
    }
   ],
   "source": [
    "list1 = [ i for i in range(10,101,10) ]\n",
    "print(list1)"
   ]
  },
  {
   "cell_type": "code",
   "execution_count": 92,
   "id": "67d3afff",
   "metadata": {},
   "outputs": [
    {
     "name": "stdout",
     "output_type": "stream",
     "text": [
      "[10, 20, 40, 50, 60, 70, 80, 90, 100]\n"
     ]
    }
   ],
   "source": [
    "list1.remove(30) # remove(deger) : ilgili değere göre listeden elemanı siler.\n",
    "print(list1)"
   ]
  },
  {
   "cell_type": "code",
   "execution_count": 93,
   "id": "1f55ebb0",
   "metadata": {},
   "outputs": [
    {
     "name": "stdout",
     "output_type": "stream",
     "text": [
      "[10, 20, 50, 60, 70, 80, 90, 100]\n"
     ]
    }
   ],
   "source": [
    "list1.pop(2) # pop(index) : ilgili index numarasına göre veriyi siler.\n",
    "print(list1)"
   ]
  },
  {
   "cell_type": "code",
   "execution_count": 94,
   "id": "350c3771",
   "metadata": {},
   "outputs": [
    {
     "name": "stdout",
     "output_type": "stream",
     "text": [
      "[10, 20, 50, 60, 70, 80, 90]\n"
     ]
    }
   ],
   "source": [
    "list1.pop() # pop() : listedeki son elemanı siler.\n",
    "print(list1)"
   ]
  },
  {
   "cell_type": "code",
   "execution_count": 95,
   "id": "778af739",
   "metadata": {},
   "outputs": [
    {
     "name": "stdout",
     "output_type": "stream",
     "text": [
      "[10, 20, 50, 70, 80, 90]\n"
     ]
    }
   ],
   "source": [
    "del list1[3] # del ilgili veriyi siler\n",
    "print(list1)"
   ]
  },
  {
   "cell_type": "code",
   "execution_count": 96,
   "id": "8a1d347f",
   "metadata": {},
   "outputs": [
    {
     "name": "stdout",
     "output_type": "stream",
     "text": [
      "[]\n"
     ]
    }
   ],
   "source": [
    "list1.clear() # clear fonksiyonu ilgili listeyi tamamen siler.\n",
    "print(list1)"
   ]
  },
  {
   "cell_type": "code",
   "execution_count": 99,
   "id": "01b16b71",
   "metadata": {},
   "outputs": [
    {
     "name": "stdout",
     "output_type": "stream",
     "text": [
      "1\n",
      "2\n"
     ]
    }
   ],
   "source": [
    "list2 = [5 , 10 , 15 ,20 ,10]\n",
    "print(list2.index(10))\n",
    "print(list2.count(10))"
   ]
  },
  {
   "cell_type": "code",
   "execution_count": 103,
   "id": "d1ed3d29",
   "metadata": {},
   "outputs": [
    {
     "name": "stdout",
     "output_type": "stream",
     "text": [
      "Artan şekilde sıralama :\n",
      "[0, 10, 15, 25, 35, 40, 41]\n",
      "azalan sırada sıralama\n",
      "[41, 40, 35, 25, 15, 10, 0]\n"
     ]
    }
   ],
   "source": [
    "# sıralama ve tersini alma \n",
    "nums = [40, 10, 25, 35 ,15 ,41, 0]\n",
    "# sayıları küçükten büyüğe sırala\n",
    "nums.sort()\n",
    "print('Artan şekilde sıralama :')\n",
    "print(nums)\n",
    "\n",
    "nums.sort(reverse=True)\n",
    "print(\"azalan sırada sıralama\")\n",
    "print(nums)\n"
   ]
  },
  {
   "cell_type": "code",
   "execution_count": 104,
   "id": "f91ccf4d",
   "metadata": {},
   "outputs": [
    {
     "name": "stdout",
     "output_type": "stream",
     "text": [
      "[-85, 0, 10, 15, 25, 35, 40, 41]\n"
     ]
    }
   ],
   "source": [
    "nums2 = [40, 10, 25, 35 ,15 ,41, 0,-85]\n",
    "ascending_list = list(sorted(nums2))\n",
    "print(ascending_list)"
   ]
  },
  {
   "cell_type": "code",
   "execution_count": 105,
   "id": "d5fb9e49",
   "metadata": {},
   "outputs": [
    {
     "name": "stdout",
     "output_type": "stream",
     "text": [
      "[41, 40, 35, 25, 15, 10, 0, -85]\n"
     ]
    }
   ],
   "source": [
    "descending_list = list(sorted(nums2,reverse=True))\n",
    "print(descending_list)"
   ]
  },
  {
   "cell_type": "code",
   "execution_count": 106,
   "id": "4ede7ebf",
   "metadata": {},
   "outputs": [
    {
     "name": "stdout",
     "output_type": "stream",
     "text": [
      "[41, 40, 35, 25, 15, 10, 0, -85]\n"
     ]
    }
   ],
   "source": [
    "descending_list2 = list(reversed(sorted(nums2)))\n",
    "print(descending_list2)"
   ]
  },
  {
   "cell_type": "code",
   "execution_count": 107,
   "id": "f2f5c282",
   "metadata": {},
   "outputs": [],
   "source": [
    "nums3 = [25,5,4,100,10,-8,45]\n",
    "nums3.sort()\n",
    "\n",
    "asc_list = nums3.copy()\n",
    "\n",
    "nums3.sort(reverse=True)\n",
    "desc_list = nums3.copy()"
   ]
  },
  {
   "cell_type": "code",
   "execution_count": 108,
   "id": "7d54e356",
   "metadata": {},
   "outputs": [
    {
     "name": "stdout",
     "output_type": "stream",
     "text": [
      "Artan Liste \n",
      "[-8, 4, 5, 10, 25, 45, 100]\n"
     ]
    }
   ],
   "source": [
    "print(\"Artan Liste \")\n",
    "print(asc_list)"
   ]
  },
  {
   "cell_type": "code",
   "execution_count": 109,
   "id": "ec64ed0d",
   "metadata": {},
   "outputs": [
    {
     "name": "stdout",
     "output_type": "stream",
     "text": [
      "Azalan liste\n",
      "[100, 45, 25, 10, 5, 4, -8]\n"
     ]
    }
   ],
   "source": [
    "print('Azalan liste')\n",
    "print(desc_list)"
   ]
  },
  {
   "cell_type": "code",
   "execution_count": 110,
   "id": "64aa8947",
   "metadata": {},
   "outputs": [
    {
     "name": "stdout",
     "output_type": "stream",
     "text": [
      "[100, 45, 25, 10, 5, 4, -8]\n",
      "[-8, 4, 5, 10, 25, 45, 100, 895]\n"
     ]
    }
   ],
   "source": [
    "asc_list.append(895)\n",
    "print(nums3)\n",
    "print(asc_list)"
   ]
  },
  {
   "cell_type": "code",
   "execution_count": 111,
   "id": "3b49d3a8",
   "metadata": {},
   "outputs": [
    {
     "name": "stdout",
     "output_type": "stream",
     "text": [
      "[[1, 2, 3], [4, 5, 6], [7, 8, 9]]\n"
     ]
    }
   ],
   "source": [
    "matris = [[1,2,3],\n",
    "          [4,5,6],\n",
    "          [7,8,9]\n",
    "         ]\n",
    "\n",
    "print(matris)\n"
   ]
  },
  {
   "cell_type": "code",
   "execution_count": 112,
   "id": "39f0db77",
   "metadata": {},
   "outputs": [
    {
     "name": "stdout",
     "output_type": "stream",
     "text": [
      "[1, 2, 3]\n"
     ]
    }
   ],
   "source": [
    "print(matris[0])"
   ]
  },
  {
   "cell_type": "code",
   "execution_count": 113,
   "id": "430a0ea7",
   "metadata": {},
   "outputs": [
    {
     "name": "stdout",
     "output_type": "stream",
     "text": [
      "6\n"
     ]
    }
   ],
   "source": [
    "print(matris[1][2])"
   ]
  },
  {
   "cell_type": "code",
   "execution_count": null,
   "id": "d956cc2a",
   "metadata": {},
   "outputs": [],
   "source": []
  },
  {
   "cell_type": "code",
   "execution_count": null,
   "id": "39d8478a",
   "metadata": {},
   "outputs": [],
   "source": []
  }
 ],
 "metadata": {
  "kernelspec": {
   "display_name": "Python 3 (ipykernel)",
   "language": "python",
   "name": "python3"
  },
  "language_info": {
   "codemirror_mode": {
    "name": "ipython",
    "version": 3
   },
   "file_extension": ".py",
   "mimetype": "text/x-python",
   "name": "python",
   "nbconvert_exporter": "python",
   "pygments_lexer": "ipython3",
   "version": "3.10.9"
  }
 },
 "nbformat": 4,
 "nbformat_minor": 5
}
