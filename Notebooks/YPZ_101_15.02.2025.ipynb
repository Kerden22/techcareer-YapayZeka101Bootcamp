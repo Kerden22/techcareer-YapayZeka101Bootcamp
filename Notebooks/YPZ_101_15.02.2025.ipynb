{
 "cells": [
  {
   "cell_type": "code",
   "execution_count": 1,
   "id": "1249b161",
   "metadata": {},
   "outputs": [],
   "source": [
    "#class kavramı : oop de kullanılan bir yapıdır. \n",
    "# Aynı türdeki verileri oluşturmak için bir şablon görevi görür."
   ]
  },
  {
   "cell_type": "code",
   "execution_count": 9,
   "id": "f1ba49dc",
   "metadata": {},
   "outputs": [],
   "source": [
    "class Product:\n",
    "    def __init__(self, name,price,stock):\n",
    "        self.name = name\n",
    "        self.price = price\n",
    "        self.stock = stock\n",
    "    def bilgi_ver(self):\n",
    "        print(f'Ürünün adı : {self.name}, Değeri : {self.price}, Stoğu : {self.stock}')\n",
    "\n",
    "    def __str__(self):\n",
    "        return f'Ürünün adı : {self.name}, Değeri : {self.price}, Stoğu : {self.stock}'"
   ]
  },
  {
   "cell_type": "code",
   "execution_count": 10,
   "id": "c61bf0f7",
   "metadata": {},
   "outputs": [
    {
     "name": "stdout",
     "output_type": "stream",
     "text": [
      "Ürünün adı : Dyson Süpürge, Değeri : 25000, Stoğu : 50\n"
     ]
    }
   ],
   "source": [
    "urun1 = Product('Dyson Süpürge',25000,50)\n",
    "urun1.bilgi_ver()"
   ]
  },
  {
   "cell_type": "code",
   "execution_count": 11,
   "id": "e070557d",
   "metadata": {},
   "outputs": [
    {
     "name": "stdout",
     "output_type": "stream",
     "text": [
      "Ürünün adı : Dyson Süpürge, Değeri : 25000, Stoğu : 50\n"
     ]
    }
   ],
   "source": [
    "print(urun1)"
   ]
  },
  {
   "cell_type": "code",
   "execution_count": 12,
   "id": "f4b55802",
   "metadata": {},
   "outputs": [],
   "source": [
    "# garaj  adında bir class ımız olsun garajdaki arabalarla alakalı işlemler yapalım."
   ]
  },
  {
   "cell_type": "code",
   "execution_count": 22,
   "id": "aa1c820a",
   "metadata": {},
   "outputs": [],
   "source": [
    "class Garaj:\n",
    "    def __init__(self,arabalar,name):\n",
    "        self.arabalar = arabalar\n",
    "        self.name = name\n",
    "    def __len__(self):\n",
    "        return len(self.arabalar)\n",
    "    \n",
    "    def __str__(self):\n",
    "        return f'{self.name} garajındaki araçlar : {self.arabalar}'"
   ]
  },
  {
   "cell_type": "code",
   "execution_count": 24,
   "id": "dc6114ee",
   "metadata": {},
   "outputs": [
    {
     "name": "stdout",
     "output_type": "stream",
     "text": [
      "1. Garajdaki araba sayısı : 5\n",
      "2. Garajdaki araba sayısı : 4\n",
      "Garaj 1 garajındaki araçlar : ['Audi', 'BMW', 'Mercedes', 'Renault', 'Skoda']\n",
      "Garaj 2 garajındaki araçlar : ['Porsche', 'Lamborghini', 'Ferrari', 'Masserati']\n"
     ]
    }
   ],
   "source": [
    "# __len__(obje) : len fonksitonu çağrıldığı zaman bir class ın kendine göre özel davranışını ortaya kkoyar.\n",
    "garaj1 = Garaj(arabalar=['Audi','BMW','Mercedes','Renault','Skoda'],name='Garaj 1')\n",
    "garaj2 = Garaj(['Porsche','Lamborghini','Ferrari','Masserati'], name =\"Garaj 2\")\n",
    "\n",
    "\n",
    "print(f'1. Garajdaki araba sayısı : {len(garaj1)}')\n",
    "print(f'2. Garajdaki araba sayısı : {len(garaj2)}')\n",
    "\n",
    "print(garaj1)\n",
    "print(garaj2)"
   ]
  },
  {
   "cell_type": "code",
   "execution_count": 43,
   "id": "ba92276e",
   "metadata": {},
   "outputs": [],
   "source": [
    "# getitem : bir class içerisindeki listenin hangi indexine erişmek istiyorsak kullandığımız fonksiyondur.\n",
    "# setitem:  bir class içerisindeki listenin indexinde ki bir verinin değerini değiştirmek için kullanılır\n",
    "# delitem : bir class içerisindeki listenin indexine göre silme işlemi yapar.\n",
    "class Library:\n",
    "    def __init__(self,name):\n",
    "        self.books = ['Anna Karanina 1','Anna Karanina 2','Anna Karanina 3']\n",
    "        self.name = name\n",
    "        \n",
    "    def __str__(self):\n",
    "        return f'kütüphane adı : {self.name}, Kütüphane içerisindeki kitaplar : {self.books}'\n",
    "    \n",
    "    def __getitem__(self,index):\n",
    "        return self.books[index]\n",
    "    \n",
    "    def __setitem__(self, index, yeni_kitap):\n",
    "        self.books[index] = yeni_kitap\n",
    "        \n",
    "    def __delitem__(self, index):\n",
    "        del self.books[index]\n",
    "    "
   ]
  },
  {
   "cell_type": "code",
   "execution_count": 44,
   "id": "c90ee395",
   "metadata": {},
   "outputs": [
    {
     "name": "stdout",
     "output_type": "stream",
     "text": [
      "kütüphane adı : Üsküdar Kütüphanesi, Kütüphane içerisindeki kitaplar : ['Anna Karanina 1', 'Anna Karanina 2', 'Anna Karanina 3']\n"
     ]
    }
   ],
   "source": [
    "lib1 = Library('Üsküdar Kütüphanesi')\n",
    "print(lib1)\n",
    "\n"
   ]
  },
  {
   "cell_type": "code",
   "execution_count": 45,
   "id": "8aa896e8",
   "metadata": {},
   "outputs": [
    {
     "name": "stdout",
     "output_type": "stream",
     "text": [
      "Anna Karanina 1\n",
      "kütüphane adı : Üsküdar Kütüphanesi, Kütüphane içerisindeki kitaplar : ['Anna Karanina 1', 'Germinal', 'Anna Karanina 3']\n"
     ]
    }
   ],
   "source": [
    "print(lib1[0])\n",
    "\n",
    "lib1[1]='Germinal'\n",
    "print(lib1)"
   ]
  },
  {
   "cell_type": "code",
   "execution_count": 46,
   "id": "3c043b54",
   "metadata": {},
   "outputs": [],
   "source": [
    "del lib1[2]"
   ]
  },
  {
   "cell_type": "code",
   "execution_count": 47,
   "id": "df969c00",
   "metadata": {},
   "outputs": [
    {
     "name": "stdout",
     "output_type": "stream",
     "text": [
      "kütüphane adı : Üsküdar Kütüphanesi, Kütüphane içerisindeki kitaplar : ['Anna Karanina 1', 'Germinal']\n"
     ]
    }
   ],
   "source": [
    "print(lib1)"
   ]
  },
  {
   "cell_type": "code",
   "execution_count": 48,
   "id": "302bf372",
   "metadata": {},
   "outputs": [],
   "source": [
    "# Bir şirket ile alakalı bilgiler bir şablonda tutulmak isteniyor. \n",
    "# Bu şablonda alanlar şu lekilde tutulmalı :\n",
    "# Çalışanlar, şirketin_adı, şirketin_butcesi , sirketin_personel_maaşı\n",
    "# Şirketin çalışanlarının listelenmesi\n",
    "# şirketin kaç tane çalışanı var \n",
    "# Şirket ile alakalı bir bilgilendirme metni \n",
    "# şirketin kar da mı zararda mı olduğunu gösteren fonksiyon (sirket_butcesi> personel_maası zararda)"
   ]
  },
  {
   "cell_type": "code",
   "execution_count": 49,
   "id": "72121dde",
   "metadata": {},
   "outputs": [],
   "source": [
    "class Worker:\n",
    "    def __init__(self, isim,maas):\n",
    "        self.isim = isim\n",
    "        self.maas = maas\n",
    "    \n",
    "    def __str__(self):\n",
    "        return f'adı : {self.isim}, maaşı : {self.maas}'\n",
    "    "
   ]
  },
  {
   "cell_type": "code",
   "execution_count": 57,
   "id": "a17b332e",
   "metadata": {},
   "outputs": [],
   "source": [
    "class Company:\n",
    "    def __init__(self, name, budget):\n",
    "        self.name = name\n",
    "        self.workers = []\n",
    "        self.budget = budget\n",
    "        \n",
    "    def calisan_ekle(self, calisan_adi, calisan_maasi):\n",
    "        worker = Worker(calisan_adi, calisan_maasi)\n",
    "        self.workers.append(worker)\n",
    "    \n",
    "    \n",
    "    def calisan_yazdir(self):\n",
    "        for worker in self.workers:\n",
    "            print(worker)\n",
    "            \n",
    "    def __len__(self):\n",
    "        return len(self.workers)\n",
    "    \n",
    "    def __str__(self):\n",
    "        return f'şirket adı : {self.name}, şirketin bütçesi : {self.budget}'\n",
    "    \n",
    "    \n",
    "    def kar_zarar(self):\n",
    "        calisan_butcesi = 0\n",
    "        for worker in self.workers:\n",
    "            calisan_butcesi += worker.maas\n",
    "            \n",
    "        print(f'Şirketin Bütcesi : {self.budget}')\n",
    "        print(f'Çalışanların Maliyeti : {calisan_butcesi}')\n",
    "        if calisan_butcesi> self.budget:\n",
    "            fark = calisan_butcesi - self.budget\n",
    "            print(f'{fark} TL Zarardasınız.')\n",
    "        else:\n",
    "            fark = self.budget - calisan_butcesi\n",
    "            print(f'{fark} TL Kardasınız')\n",
    "    \n",
    "    "
   ]
  },
  {
   "cell_type": "code",
   "execution_count": 58,
   "id": "832c0098",
   "metadata": {},
   "outputs": [],
   "source": [
    "sirket = Company(name='Suez Yazılım',budget=3000000)\n",
    "sirket.calisan_ekle(\"Cemil Dalar\",85000)\n",
    "sirket.calisan_ekle('Sidar Erzincan',150000)\n",
    "sirket.calisan_ekle('Halil Erdoğan',100000)"
   ]
  },
  {
   "cell_type": "code",
   "execution_count": 59,
   "id": "c87121fe",
   "metadata": {},
   "outputs": [
    {
     "name": "stdout",
     "output_type": "stream",
     "text": [
      "adı : Cemil Dalar, maaşı : 85000\n",
      "adı : Sidar Erzincan, maaşı : 150000\n",
      "adı : Halil Erdoğan, maaşı : 100000\n"
     ]
    }
   ],
   "source": [
    "sirket.calisan_yazdir()"
   ]
  },
  {
   "cell_type": "code",
   "execution_count": 60,
   "id": "45402f4d",
   "metadata": {},
   "outputs": [
    {
     "name": "stdout",
     "output_type": "stream",
     "text": [
      "Şirketteki çalışan sayısı : 3\n"
     ]
    }
   ],
   "source": [
    "print(f'Şirketteki çalışan sayısı : {len(sirket)}')"
   ]
  },
  {
   "cell_type": "code",
   "execution_count": 61,
   "id": "50c53356",
   "metadata": {},
   "outputs": [
    {
     "name": "stdout",
     "output_type": "stream",
     "text": [
      "şirket adı : Suez Yazılım, şirketin bütçesi : 3000000\n"
     ]
    }
   ],
   "source": [
    "print(sirket)"
   ]
  },
  {
   "cell_type": "code",
   "execution_count": 62,
   "id": "f40c038e",
   "metadata": {},
   "outputs": [
    {
     "name": "stdout",
     "output_type": "stream",
     "text": [
      "Şirketin Bütcesi : 3000000\n",
      "Çalışanların Maliyeti : 335000\n",
      "2665000 TL Kardasınız\n"
     ]
    }
   ],
   "source": [
    "sirket.kar_zarar()"
   ]
  },
  {
   "cell_type": "code",
   "execution_count": 72,
   "id": "d3eb23ed",
   "metadata": {},
   "outputs": [],
   "source": [
    "class Person:\n",
    "    def __init__(self, isim , yas):\n",
    "        self.isim = isim\n",
    "        self.yas = yas\n",
    "    def __str__(self):\n",
    "        return f'isim : {self.isim}, yaş : {self.yas}'\n",
    "    \n",
    "    def __eq__(self, other):    # equals\n",
    "        return self.isim == other.isim and self.yas == other.yas\n",
    "    \n",
    "    # greather than\n",
    "    def __gt__(self,other):\n",
    "        return self.yas> other.yas"
   ]
  },
  {
   "cell_type": "code",
   "execution_count": 73,
   "id": "f103f56c",
   "metadata": {},
   "outputs": [
    {
     "name": "stdout",
     "output_type": "stream",
     "text": [
      "True\n"
     ]
    }
   ],
   "source": [
    "person1 = Person('deneme',25)\n",
    "person2 = Person('deneme',25)\n",
    "\n",
    "print(person1==person2)"
   ]
  },
  {
   "cell_type": "code",
   "execution_count": 75,
   "id": "2dfbfeec",
   "metadata": {},
   "outputs": [
    {
     "name": "stdout",
     "output_type": "stream",
     "text": [
      "False\n",
      "True\n"
     ]
    }
   ],
   "source": [
    "person3 = Person('Buse Gönek',26)\n",
    "person4 = Person('Deneme',27)\n",
    "print(person3>person4)\n",
    "print(person3<person4)"
   ]
  },
  {
   "cell_type": "code",
   "execution_count": 76,
   "id": "853c915d",
   "metadata": {},
   "outputs": [],
   "source": [
    "#13:07 de dersteyiz"
   ]
  },
  {
   "cell_type": "code",
   "execution_count": 91,
   "id": "3f104a29",
   "metadata": {},
   "outputs": [],
   "source": [
    "class Tasit:\n",
    "    def __init__(self, marka, model, max_hiz):\n",
    "        self.marka =marka\n",
    "        self.model = model\n",
    "        self.max_hiz = max_hiz\n",
    "        \n",
    "    def bilgi_goster(self):\n",
    "        print(f'Marka : {self.marka}, Model : {self.model}, Maksimum hız : {self.max_hiz} ')\n",
    "class Araba(Tasit):\n",
    "    def __init__(self, marka, model, max_hiz,kapi_sayisi):\n",
    "        super().__init__(marka,model,max_hiz)\n",
    "        self.kapi_sayisi = kapi_sayisi\n",
    "        \n",
    "    def kapi_saiyisi_goster(self):\n",
    "        super().bilgi_goster()\n",
    "        print(f'kapi sayısı : {self.kapi_sayisi}')\n",
    "        \n",
    "class Motosiklet(Tasit):\n",
    "    def __init__(self, marka, model, max_hiz, kask_durumu):\n",
    "        super().__init__(marka,model,max_hiz)\n",
    "        self.kask_durumu = kask_durumu\n",
    "        \n",
    "        \n",
    "    def kask_durumu_goster(self):\n",
    "        super().bilgi_goster()\n",
    "        print(f'Kask var mı : {self.kask_durumu}')"
   ]
  },
  {
   "cell_type": "code",
   "execution_count": 92,
   "id": "7c4ef5c3",
   "metadata": {},
   "outputs": [
    {
     "name": "stdout",
     "output_type": "stream",
     "text": [
      "Marka : Bmw, Model : 2022, Maksimum hız : 360 \n",
      "kapi sayısı : 2\n",
      "Marka : Yamaha, Model : 2014, Maksimum hız : 380 \n",
      "Kask var mı : True\n"
     ]
    }
   ],
   "source": [
    "car = Araba('Bmw',2022,360,2)\n",
    "ms1 = Motosiklet('Yamaha',2014,380,True)\n",
    "\n",
    "car.kapi_saiyisi_goster()\n",
    "\n",
    "\n",
    "ms1.kask_durumu_goster()"
   ]
  },
  {
   "cell_type": "markdown",
   "id": "bd710862",
   "metadata": {},
   "source": [
    "## Numpy(Numerical Python)\n",
    "### Çok boyutlu veya tek boyutlu diziler ile çalışırken daha rahat ve daha performans \n",
    "### odeaklı çalışmak istiyorsak kullanırız.\n",
    "\n",
    "## Avantajları :\n",
    "### C dili ile optimize edildiği için python listelerine göre daha hızlı ve az bellek tüketir"
   ]
  },
  {
   "cell_type": "code",
   "execution_count": 93,
   "id": "d6116016",
   "metadata": {},
   "outputs": [],
   "source": [
    "# 1 ... 1000000000\n",
    "# 1 ... 1000000000\n",
    "\n",
    "# 2 , 4 ,6 "
   ]
  },
  {
   "cell_type": "code",
   "execution_count": 4,
   "id": "b48ee6d3",
   "metadata": {},
   "outputs": [],
   "source": [
    "import numpy as np\n",
    "import time "
   ]
  },
  {
   "cell_type": "code",
   "execution_count": 12,
   "id": "e797ff36",
   "metadata": {},
   "outputs": [],
   "source": [
    "def python_version():\n",
    "    start_time = time.time()\n",
    "    liste1 = [i for i in range(100000000)]\n",
    "    liste2 = [i for i in range(100000000)]\n",
    "    \n",
    "    toplam = [liste1[i]+ liste2[i] for i in range(len(liste1))]\n",
    "    sure = time.time() - start_time\n",
    "    print(f'Python versiyonu çalışma süresi : {sure}')"
   ]
  },
  {
   "cell_type": "code",
   "execution_count": 13,
   "id": "43cb08c7",
   "metadata": {},
   "outputs": [],
   "source": [
    "def numpy_version():\n",
    "    start_time = time.time()\n",
    "    array1 = np.arange(1,100000000)\n",
    "    array2 = np.arange(1,100000000)\n",
    "    sum_array = array1 + array2\n",
    "    sure = time.time() - start_time\n",
    "    print(f'Numpy versiyonu için geçen süre : {sure}')"
   ]
  },
  {
   "cell_type": "code",
   "execution_count": 14,
   "id": "145ebf2d",
   "metadata": {},
   "outputs": [
    {
     "name": "stdout",
     "output_type": "stream",
     "text": [
      "Python versiyonu çalışma süresi : 36.99151349067688\n",
      "Numpy versiyonu için geçen süre : 0.2967977523803711\n"
     ]
    }
   ],
   "source": [
    "python_version()\n",
    "numpy_version()"
   ]
  },
  {
   "cell_type": "code",
   "execution_count": 15,
   "id": "7268bd2b",
   "metadata": {},
   "outputs": [
    {
     "data": {
      "text/plain": [
       "[10, 0, 45, 55, 65]"
      ]
     },
     "execution_count": 15,
     "metadata": {},
     "output_type": "execute_result"
    }
   ],
   "source": [
    "list1 = [10,0,45,55,65]\n",
    "list1"
   ]
  },
  {
   "cell_type": "code",
   "execution_count": 16,
   "id": "03343482",
   "metadata": {},
   "outputs": [
    {
     "data": {
      "text/plain": [
       "array([10,  0, 45, 55, 65])"
      ]
     },
     "execution_count": 16,
     "metadata": {},
     "output_type": "execute_result"
    }
   ],
   "source": [
    "arr1 = np.array(list1)\n",
    "arr1"
   ]
  },
  {
   "cell_type": "code",
   "execution_count": 17,
   "id": "ce26cc9d",
   "metadata": {},
   "outputs": [
    {
     "data": {
      "text/plain": [
       "array([10.,  0., 45., 55., 65.])"
      ]
     },
     "execution_count": 17,
     "metadata": {},
     "output_type": "execute_result"
    }
   ],
   "source": [
    "arr1.astype(float)"
   ]
  },
  {
   "cell_type": "code",
   "execution_count": 18,
   "id": "987e42b8",
   "metadata": {},
   "outputs": [
    {
     "data": {
      "text/plain": [
       "array([0, 1, 2, 3, 4, 5, 6, 7, 8, 9])"
      ]
     },
     "execution_count": 18,
     "metadata": {},
     "output_type": "execute_result"
    }
   ],
   "source": [
    "a = np.arange(0,10)\n",
    "a"
   ]
  },
  {
   "cell_type": "code",
   "execution_count": 19,
   "id": "ab0a3cac",
   "metadata": {},
   "outputs": [
    {
     "data": {
      "text/plain": [
       "1"
      ]
     },
     "execution_count": 19,
     "metadata": {},
     "output_type": "execute_result"
    }
   ],
   "source": [
    "a[1]"
   ]
  },
  {
   "cell_type": "code",
   "execution_count": 23,
   "id": "c1e84287",
   "metadata": {},
   "outputs": [
    {
     "data": {
      "text/plain": [
       "array([  0,  10,  20,  30,  40,  50,  60,  70,  80,  90, 100])"
      ]
     },
     "execution_count": 23,
     "metadata": {},
     "output_type": "execute_result"
    }
   ],
   "source": [
    "b = np.arange(0,101,10)\n",
    "b"
   ]
  },
  {
   "cell_type": "code",
   "execution_count": 24,
   "id": "b4b3c8f3",
   "metadata": {},
   "outputs": [
    {
     "data": {
      "text/plain": [
       "array([100,  90,  80,  70,  60,  50,  40,  30,  20,  10,   0])"
      ]
     },
     "execution_count": 24,
     "metadata": {},
     "output_type": "execute_result"
    }
   ],
   "source": [
    "c = np.arange(100,-1,-10)\n",
    "c"
   ]
  },
  {
   "cell_type": "code",
   "execution_count": 26,
   "id": "27a0a7a1",
   "metadata": {},
   "outputs": [
    {
     "data": {
      "text/plain": [
       "array([0, 0, 0, 0, 0])"
      ]
     },
     "execution_count": 26,
     "metadata": {},
     "output_type": "execute_result"
    }
   ],
   "source": [
    "# [0,0,0,0,0]\n",
    "zeros = np.zeros(5).astype(int)\n",
    "zeros"
   ]
  },
  {
   "cell_type": "code",
   "execution_count": 27,
   "id": "762932ab",
   "metadata": {},
   "outputs": [
    {
     "data": {
      "text/plain": [
       "array([1, 1, 1, 1, 1, 1])"
      ]
     },
     "execution_count": 27,
     "metadata": {},
     "output_type": "execute_result"
    }
   ],
   "source": [
    "ones = np.ones(6).astype(int)\n",
    "ones"
   ]
  },
  {
   "cell_type": "code",
   "execution_count": 28,
   "id": "7d0d877e",
   "metadata": {},
   "outputs": [
    {
     "data": {
      "text/plain": [
       "array([25, 25, 25, 25, 25, 25])"
      ]
     },
     "execution_count": 28,
     "metadata": {},
     "output_type": "execute_result"
    }
   ],
   "source": [
    "# tekrarlı sayılar : repeat(tekrarlanacak_sayi, kaç_tane_yazsin)\n",
    "repeat = np.repeat(25,6)\n",
    "repeat"
   ]
  },
  {
   "cell_type": "code",
   "execution_count": 29,
   "id": "0910215e",
   "metadata": {},
   "outputs": [
    {
     "data": {
      "text/plain": [
       "array([1, 1, 1, 2, 2, 2, 3, 3, 3, 4, 4, 4, 5, 5, 5])"
      ]
     },
     "execution_count": 29,
     "metadata": {},
     "output_type": "execute_result"
    }
   ],
   "source": [
    "d = np.array([1,2,3,4,5])\n",
    "repeat_d = np.repeat(d,3)\n",
    "repeat_d"
   ]
  },
  {
   "cell_type": "code",
   "execution_count": 30,
   "id": "a553988a",
   "metadata": {},
   "outputs": [
    {
     "data": {
      "text/plain": [
       "[1, 3, 5, 7, 9, 11, 13, 15, 17, 19]"
      ]
     },
     "execution_count": 30,
     "metadata": {},
     "output_type": "execute_result"
    }
   ],
   "source": [
    "sayilar= np.arange(1,21)\n",
    "# e dizisindeki tek sayıları liste şeklinde tutan kodu yazınız.\n",
    "tek_sayilar = []\n",
    "for sayi in sayilar:\n",
    "    if sayi %2 ==1:\n",
    "        tek_sayilar.append(sayi)\n",
    "tek_sayilar"
   ]
  },
  {
   "cell_type": "code",
   "execution_count": 31,
   "id": "bff9057b",
   "metadata": {},
   "outputs": [
    {
     "data": {
      "text/plain": [
       "array([ 1,  3,  5,  7,  9, 11, 13, 15, 17, 19])"
      ]
     },
     "execution_count": 31,
     "metadata": {},
     "output_type": "execute_result"
    }
   ],
   "source": [
    "tek_numpy = sayilar[sayilar % 2 ==1]\n",
    "tek_numpy"
   ]
  },
  {
   "cell_type": "code",
   "execution_count": 32,
   "id": "2b9da752",
   "metadata": {},
   "outputs": [],
   "source": [
    "# linspace(baslangıç, bitiş , adet) : eşit aralıklarla kaç adet sayı eklenecekse kullanılan fonksiyondur. "
   ]
  },
  {
   "cell_type": "code",
   "execution_count": 33,
   "id": "d37424e2",
   "metadata": {},
   "outputs": [
    {
     "data": {
      "text/plain": [
       "array([20., 30., 40., 50.])"
      ]
     },
     "execution_count": 33,
     "metadata": {},
     "output_type": "execute_result"
    }
   ],
   "source": [
    "lns = np.linspace(20,50,4)\n",
    "lns"
   ]
  },
  {
   "cell_type": "code",
   "execution_count": 34,
   "id": "6a7994bb",
   "metadata": {},
   "outputs": [
    {
     "data": {
      "text/plain": [
       "array([10.        , 13.33333333, 16.66666667, 20.        ])"
      ]
     },
     "execution_count": 34,
     "metadata": {},
     "output_type": "execute_result"
    }
   ],
   "source": [
    "np.linspace(10,20,4)"
   ]
  },
  {
   "cell_type": "code",
   "execution_count": 35,
   "id": "6d6e29db",
   "metadata": {},
   "outputs": [
    {
     "data": {
      "text/plain": [
       "array([10, 13, 16, 20])"
      ]
     },
     "execution_count": 35,
     "metadata": {},
     "output_type": "execute_result"
    }
   ],
   "source": [
    "np.linspace(10,20,4).astype(int)"
   ]
  },
  {
   "cell_type": "code",
   "execution_count": 36,
   "id": "53fd8f58",
   "metadata": {},
   "outputs": [
    {
     "data": {
      "text/plain": [
       "array([0.07706547, 0.7301312 , 0.03114996, 0.36060964])"
      ]
     },
     "execution_count": 36,
     "metadata": {},
     "output_type": "execute_result"
    }
   ],
   "source": [
    "np.random.random(4)"
   ]
  },
  {
   "cell_type": "code",
   "execution_count": 39,
   "id": "f8c8520e",
   "metadata": {},
   "outputs": [
    {
     "data": {
      "text/plain": [
       "array([324, 452, 274, 229, 258, 279,  55, 450, 483, 130])"
      ]
     },
     "execution_count": 39,
     "metadata": {},
     "output_type": "execute_result"
    }
   ],
   "source": [
    "# randint : int random sayı üretir\n",
    "np.random.randint(0,500,10)"
   ]
  },
  {
   "cell_type": "code",
   "execution_count": 42,
   "id": "a939f694",
   "metadata": {},
   "outputs": [
    {
     "data": {
      "text/plain": [
       "array([282, 105, 272, 324, 298, 183, 332,  79, 345,  14])"
      ]
     },
     "execution_count": 42,
     "metadata": {},
     "output_type": "execute_result"
    }
   ],
   "source": [
    "np.random.seed(200)\n",
    "np.random.randint(0,500,10)"
   ]
  },
  {
   "cell_type": "code",
   "execution_count": 44,
   "id": "f0714a47",
   "metadata": {},
   "outputs": [
    {
     "data": {
      "text/plain": [
       "array([ 5.05721183, 12.14847363, 23.19389771, 14.12161971, 24.63605418,\n",
       "       22.34713981, 24.72055023, 23.46533413, 11.07386628, 21.92206981])"
      ]
     },
     "execution_count": 44,
     "metadata": {},
     "output_type": "execute_result"
    }
   ],
   "source": [
    "np.random.uniform(5,25, size=(10))"
   ]
  },
  {
   "cell_type": "code",
   "execution_count": 45,
   "id": "0c26d1f3",
   "metadata": {},
   "outputs": [
    {
     "data": {
      "text/plain": [
       "array([ 1,  2,  3,  4,  5,  6,  7,  8,  9, 10, 11, 12, 13, 14, 15, 16, 17,\n",
       "       18, 19])"
      ]
     },
     "execution_count": 45,
     "metadata": {},
     "output_type": "execute_result"
    }
   ],
   "source": [
    "dizi2 = np.arange(1,20)\n",
    "dizi2"
   ]
  },
  {
   "cell_type": "code",
   "execution_count": 47,
   "id": "e9e22612",
   "metadata": {},
   "outputs": [
    {
     "data": {
      "text/plain": [
       "1"
      ]
     },
     "execution_count": 47,
     "metadata": {},
     "output_type": "execute_result"
    }
   ],
   "source": [
    "# min : ilgili dizinin minimum değerini alır\n",
    "dizi2.min()"
   ]
  },
  {
   "cell_type": "code",
   "execution_count": 48,
   "id": "5238d822",
   "metadata": {},
   "outputs": [
    {
     "data": {
      "text/plain": [
       "19"
      ]
     },
     "execution_count": 48,
     "metadata": {},
     "output_type": "execute_result"
    }
   ],
   "source": [
    "# max : ilgili dizinin maksimum değerini alır.\n",
    "dizi2.max()"
   ]
  },
  {
   "cell_type": "code",
   "execution_count": 49,
   "id": "d37dc929",
   "metadata": {},
   "outputs": [
    {
     "data": {
      "text/plain": [
       "190"
      ]
     },
     "execution_count": 49,
     "metadata": {},
     "output_type": "execute_result"
    }
   ],
   "source": [
    "# sum : dizideki tüm elemanları toplar\n",
    "dizi2.sum()"
   ]
  },
  {
   "cell_type": "code",
   "execution_count": 51,
   "id": "c78202ac",
   "metadata": {},
   "outputs": [
    {
     "data": {
      "text/plain": [
       "10.0"
      ]
     },
     "execution_count": 51,
     "metadata": {},
     "output_type": "execute_result"
    }
   ],
   "source": [
    "# dizi2 nin aritmetik ortalamasını hesaplayan kodu yazınız.\n",
    "# 1. Yöntem \n",
    "mean = dizi2.sum()/ len(dizi2)\n",
    "mean"
   ]
  },
  {
   "cell_type": "code",
   "execution_count": 52,
   "id": "5053cf40",
   "metadata": {},
   "outputs": [
    {
     "data": {
      "text/plain": [
       "10.0"
      ]
     },
     "execution_count": 52,
     "metadata": {},
     "output_type": "execute_result"
    }
   ],
   "source": [
    "#2. Yöntem\n",
    "mean1 = dizi2.mean()\n",
    "mean1"
   ]
  },
  {
   "cell_type": "code",
   "execution_count": 53,
   "id": "ce13fb6b",
   "metadata": {},
   "outputs": [
    {
     "data": {
      "text/plain": [
       "10.0"
      ]
     },
     "execution_count": 53,
     "metadata": {},
     "output_type": "execute_result"
    }
   ],
   "source": [
    "np.mean(dizi2)"
   ]
  },
  {
   "cell_type": "code",
   "execution_count": 55,
   "id": "1790e99d",
   "metadata": {},
   "outputs": [
    {
     "name": "stdout",
     "output_type": "stream",
     "text": [
      "dizi3 ün en büyük elemanının index numarası : 7\n",
      "dizi3 ün en küçük elemanının index numarası : 5\n"
     ]
    }
   ],
   "source": [
    "dizi3 = np.array([1,99,8,7,5,-58,100,102,102])\n",
    "\n",
    "print(f'dizi3 ün en büyük elemanının index numarası : {dizi3.argmax()}')\n",
    "print(f'dizi3 ün en küçük elemanının index numarası : {dizi3.argmin()}')"
   ]
  },
  {
   "cell_type": "code",
   "execution_count": 56,
   "id": "cb5eb331",
   "metadata": {},
   "outputs": [
    {
     "data": {
      "text/plain": [
       "56.987328026110816"
      ]
     },
     "execution_count": 56,
     "metadata": {},
     "output_type": "execute_result"
    }
   ],
   "source": [
    "# standart sapma : \n",
    "dizi3.std()"
   ]
  },
  {
   "cell_type": "code",
   "execution_count": 57,
   "id": "d85d9222",
   "metadata": {},
   "outputs": [
    {
     "data": {
      "text/plain": [
       "56.987328026110816"
      ]
     },
     "execution_count": 57,
     "metadata": {},
     "output_type": "execute_result"
    }
   ],
   "source": [
    "np.std(dizi3)"
   ]
  },
  {
   "cell_type": "code",
   "execution_count": 58,
   "id": "b1632e4d",
   "metadata": {},
   "outputs": [
    {
     "data": {
      "text/plain": [
       "3247.5555555555557"
      ]
     },
     "execution_count": 58,
     "metadata": {},
     "output_type": "execute_result"
    }
   ],
   "source": [
    "# varyasyon hesabı :\n",
    "dizi3.var()"
   ]
  },
  {
   "cell_type": "code",
   "execution_count": 59,
   "id": "7c1ec531",
   "metadata": {},
   "outputs": [
    {
     "data": {
      "text/plain": [
       "3247.5555555555557"
      ]
     },
     "execution_count": 59,
     "metadata": {},
     "output_type": "execute_result"
    }
   ],
   "source": [
    "np.var(dizi3)"
   ]
  },
  {
   "cell_type": "code",
   "execution_count": 60,
   "id": "734a9a12",
   "metadata": {},
   "outputs": [
    {
     "data": {
      "text/plain": [
       "array([[1, 2, 3],\n",
       "       [4, 5, 6],\n",
       "       [7, 8, 9]])"
      ]
     },
     "execution_count": 60,
     "metadata": {},
     "output_type": "execute_result"
    }
   ],
   "source": [
    "A = np.array([\n",
    "    [1,2,3],\n",
    "    [4,5,6],\n",
    "    [7,8,9]\n",
    "    \n",
    "])\n",
    "A"
   ]
  },
  {
   "cell_type": "code",
   "execution_count": 62,
   "id": "4e556adf",
   "metadata": {},
   "outputs": [
    {
     "data": {
      "text/plain": [
       "45"
      ]
     },
     "execution_count": 62,
     "metadata": {},
     "output_type": "execute_result"
    }
   ],
   "source": [
    "sum(sum(A))"
   ]
  },
  {
   "cell_type": "code",
   "execution_count": 63,
   "id": "ac64a9b4",
   "metadata": {},
   "outputs": [
    {
     "data": {
      "text/plain": [
       "45"
      ]
     },
     "execution_count": 63,
     "metadata": {},
     "output_type": "execute_result"
    }
   ],
   "source": [
    "A.sum()"
   ]
  },
  {
   "cell_type": "code",
   "execution_count": 64,
   "id": "1f33797e",
   "metadata": {},
   "outputs": [
    {
     "data": {
      "text/plain": [
       "array([1, 2, 3])"
      ]
     },
     "execution_count": 64,
     "metadata": {},
     "output_type": "execute_result"
    }
   ],
   "source": [
    "\n",
    "np.amin(A, axis=0)"
   ]
  },
  {
   "cell_type": "code",
   "execution_count": 66,
   "id": "d2b3ffd7",
   "metadata": {},
   "outputs": [
    {
     "data": {
      "text/plain": [
       "array([7, 8, 9])"
      ]
     },
     "execution_count": 66,
     "metadata": {},
     "output_type": "execute_result"
    }
   ],
   "source": [
    "np.amax(A , axis = 0)"
   ]
  },
  {
   "cell_type": "code",
   "execution_count": 67,
   "id": "52bcc8a4",
   "metadata": {},
   "outputs": [
    {
     "data": {
      "text/plain": [
       "array([1, 4, 7])"
      ]
     },
     "execution_count": 67,
     "metadata": {},
     "output_type": "execute_result"
    }
   ],
   "source": [
    "np.amin(A, axis=1)"
   ]
  },
  {
   "cell_type": "code",
   "execution_count": 68,
   "id": "da31bb0f",
   "metadata": {},
   "outputs": [
    {
     "data": {
      "text/plain": [
       "array([3, 6, 9])"
      ]
     },
     "execution_count": 68,
     "metadata": {},
     "output_type": "execute_result"
    }
   ],
   "source": [
    "np.amax(A, axis=1)"
   ]
  },
  {
   "cell_type": "code",
   "execution_count": 69,
   "id": "02423bbb",
   "metadata": {},
   "outputs": [
    {
     "data": {
      "text/plain": [
       "array([16, 10, 13, 16, 13, 18, 14, 10, 14, 12, 15, 12, 14, 10, 13, 17, 18,\n",
       "       18, 13, 11, 18, 10, 14, 16, 13, 14, 14, 16, 12, 10])"
      ]
     },
     "execution_count": 69,
     "metadata": {},
     "output_type": "execute_result"
    }
   ],
   "source": [
    "b = np.random.randint(10,20,30)\n",
    "b"
   ]
  },
  {
   "cell_type": "code",
   "execution_count": 70,
   "id": "60395b61",
   "metadata": {},
   "outputs": [
    {
     "data": {
      "text/plain": [
       "array([10, 13, 16])"
      ]
     },
     "execution_count": 70,
     "metadata": {},
     "output_type": "execute_result"
    }
   ],
   "source": [
    "# 1. indexten 3. indexe kadar elemanları ayrı bir listede tutmak\n",
    "rule_list1 = b[1:4]\n",
    "rule_list1"
   ]
  },
  {
   "cell_type": "code",
   "execution_count": 71,
   "id": "bb5d9b44",
   "metadata": {},
   "outputs": [
    {
     "data": {
      "text/plain": [
       "array([14, 14, 16, 12])"
      ]
     },
     "execution_count": 71,
     "metadata": {},
     "output_type": "execute_result"
    }
   ],
   "source": [
    "# sondan 5. indexten en son elemandan 1 index geride olan sayıya kadar tüm sayıları ayrı bir listede tutma\n",
    "rule2 = b[-5:-1]\n",
    "rule2"
   ]
  },
  {
   "cell_type": "code",
   "execution_count": 72,
   "id": "41f4cf5f",
   "metadata": {},
   "outputs": [
    {
     "data": {
      "text/plain": [
       "array([14, 14, 16, 12, 10])"
      ]
     },
     "execution_count": 72,
     "metadata": {},
     "output_type": "execute_result"
    }
   ],
   "source": [
    "rule2 = b[-5:]\n",
    "rule2"
   ]
  },
  {
   "cell_type": "code",
   "execution_count": 75,
   "id": "e5b8121b",
   "metadata": {},
   "outputs": [
    {
     "data": {
      "text/plain": [
       "array([16, 10, 13, 16, 13, 18])"
      ]
     },
     "execution_count": 75,
     "metadata": {},
     "output_type": "execute_result"
    }
   ],
   "source": [
    "# ilk 6 veri \n",
    "rl3 = b[:6]\n",
    "rl3"
   ]
  },
  {
   "cell_type": "code",
   "execution_count": null,
   "id": "264712cf",
   "metadata": {},
   "outputs": [],
   "source": []
  }
 ],
 "metadata": {
  "kernelspec": {
   "display_name": "Python 3 (ipykernel)",
   "language": "python",
   "name": "python3"
  },
  "language_info": {
   "codemirror_mode": {
    "name": "ipython",
    "version": 3
   },
   "file_extension": ".py",
   "mimetype": "text/x-python",
   "name": "python",
   "nbconvert_exporter": "python",
   "pygments_lexer": "ipython3",
   "version": "3.10.9"
  }
 },
 "nbformat": 4,
 "nbformat_minor": 5
}
