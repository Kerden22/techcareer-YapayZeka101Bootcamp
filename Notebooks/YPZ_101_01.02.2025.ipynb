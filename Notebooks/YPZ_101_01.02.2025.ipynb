{
 "cells": [
  {
   "cell_type": "code",
   "execution_count": 1,
   "id": "7ab8cf8c",
   "metadata": {},
   "outputs": [
    {
     "name": "stdout",
     "output_type": "stream",
     "text": [
      "Merhabalar bugün yapay zeka 101 Eğitiminin ilk dersi\n"
     ]
    }
   ],
   "source": [
    "print('Merhabalar bugün yapay zeka 101 Eğitiminin ilk dersi')"
   ]
  },
  {
   "cell_type": "code",
   "execution_count": 3,
   "id": "b10edbbe",
   "metadata": {},
   "outputs": [
    {
     "name": "stdout",
     "output_type": "stream",
     "text": [
      "Merhabalar bugün yapay zeka 101 Eğitiminin ilk dersi\n"
     ]
    }
   ],
   "source": [
    "print(\"Merhabalar bugün yapay zeka 101 Eğitiminin ilk dersi\")"
   ]
  },
  {
   "cell_type": "code",
   "execution_count": 4,
   "id": "6ca6df37",
   "metadata": {},
   "outputs": [
    {
     "name": "stdout",
     "output_type": "stream",
     "text": [
      "8960\n"
     ]
    }
   ],
   "source": [
    "print(256*35)"
   ]
  },
  {
   "cell_type": "code",
   "execution_count": 7,
   "id": "eeb6a8ea",
   "metadata": {},
   "outputs": [],
   "source": [
    "#Merhaba bu bir yorum satırıdır."
   ]
  },
  {
   "cell_type": "code",
   "execution_count": 8,
   "id": "9d2e0e31",
   "metadata": {},
   "outputs": [],
   "source": [
    "# değişkenler : verileri saklamak ve yönetmek için kullanılır."
   ]
  },
  {
   "cell_type": "code",
   "execution_count": 12,
   "id": "28bd7416",
   "metadata": {},
   "outputs": [
    {
     "name": "stdout",
     "output_type": "stream",
     "text": [
      "26\n",
      "26\n",
      "26\n",
      "26\n",
      "26\n",
      "26\n"
     ]
    }
   ],
   "source": [
    "age = 26\n",
    "print(age)\n",
    "print(age)\n",
    "print(age)\n",
    "print(age)\n",
    "print(age)\n",
    "print(age)"
   ]
  },
  {
   "cell_type": "code",
   "execution_count": 13,
   "id": "6673ecd5",
   "metadata": {},
   "outputs": [
    {
     "ename": "SyntaxError",
     "evalue": "invalid decimal literal (2218157821.py, line 1)",
     "output_type": "error",
     "traceback": [
      "\u001b[1;36m  Cell \u001b[1;32mIn[13], line 1\u001b[1;36m\u001b[0m\n\u001b[1;33m    12name = 254\u001b[0m\n\u001b[1;37m     ^\u001b[0m\n\u001b[1;31mSyntaxError\u001b[0m\u001b[1;31m:\u001b[0m invalid decimal literal\n"
     ]
    }
   ],
   "source": [
    "name = 254"
   ]
  },
  {
   "cell_type": "code",
   "execution_count": 14,
   "id": "ce45fbbb",
   "metadata": {},
   "outputs": [
    {
     "ename": "SyntaxError",
     "evalue": "cannot assign to literal here. Maybe you meant '==' instead of '='? (2344706447.py, line 1)",
     "output_type": "error",
     "traceback": [
      "\u001b[1;36m  Cell \u001b[1;32mIn[14], line 1\u001b[1;36m\u001b[0m\n\u001b[1;33m    12 = 254\u001b[0m\n\u001b[1;37m    ^\u001b[0m\n\u001b[1;31mSyntaxError\u001b[0m\u001b[1;31m:\u001b[0m cannot assign to literal here. Maybe you meant '==' instead of '='?\n"
     ]
    }
   ],
   "source": [
    "12 = 254"
   ]
  },
  {
   "cell_type": "code",
   "execution_count": 17,
   "id": "1806d685",
   "metadata": {},
   "outputs": [],
   "source": [
    "nam12e =255"
   ]
  },
  {
   "cell_type": "code",
   "execution_count": 20,
   "id": "87c1dffa",
   "metadata": {},
   "outputs": [
    {
     "ename": "TypeError",
     "evalue": "cannot unpack non-iterable int object",
     "output_type": "error",
     "traceback": [
      "\u001b[1;31m---------------------------------------------------------------------------\u001b[0m",
      "\u001b[1;31mTypeError\u001b[0m                                 Traceback (most recent call last)",
      "Cell \u001b[1;32mIn[20], line 1\u001b[0m\n\u001b[1;32m----> 1\u001b[0m name,asd \u001b[38;5;241m=\u001b[39m \u001b[38;5;241m250\u001b[39m\n",
      "\u001b[1;31mTypeError\u001b[0m: cannot unpack non-iterable int object"
     ]
    }
   ],
   "source": [
    "name,asd = 250"
   ]
  },
  {
   "cell_type": "code",
   "execution_count": 21,
   "id": "8442569b",
   "metadata": {},
   "outputs": [
    {
     "ename": "AttributeError",
     "evalue": "'int' object has no attribute 'asd'",
     "output_type": "error",
     "traceback": [
      "\u001b[1;31m---------------------------------------------------------------------------\u001b[0m",
      "\u001b[1;31mAttributeError\u001b[0m                            Traceback (most recent call last)",
      "Cell \u001b[1;32mIn[21], line 1\u001b[0m\n\u001b[1;32m----> 1\u001b[0m name\u001b[38;5;241m.\u001b[39masd \u001b[38;5;241m=\u001b[39m\u001b[38;5;241m365\u001b[39m\n",
      "\u001b[1;31mAttributeError\u001b[0m: 'int' object has no attribute 'asd'"
     ]
    }
   ],
   "source": [
    "name.asd =365"
   ]
  },
  {
   "cell_type": "code",
   "execution_count": 22,
   "id": "72f402ee",
   "metadata": {},
   "outputs": [
    {
     "name": "stdout",
     "output_type": "stream",
     "text": [
      "Ömer Faruk\n"
     ]
    }
   ],
   "source": [
    "kullanici_adi = 'Ömer Faruk'\n",
    "print(kullanici_adi)"
   ]
  },
  {
   "cell_type": "code",
   "execution_count": 23,
   "id": "aedad208",
   "metadata": {},
   "outputs": [],
   "source": [
    "# Değişken oluşturma kuralları : rakamla başlayamaz ama değişken isimlendirmesi ortası veya sonunda olabilir.\n",
    "# noktalama işareti kullanılacaksa _ kullanılmalıdır.\n",
    "# . , ? ! * / - gibi karakterler kullanılmamalıdır.\n",
    "# türkçe karakter kullanılmamalıdır. (Ö,ö,ü,Ü,Ğ,ğ,İ,ı,Ç,ç,Ş,ş)"
   ]
  },
  {
   "cell_type": "code",
   "execution_count": 24,
   "id": "745d7a9c",
   "metadata": {},
   "outputs": [
    {
     "name": "stdout",
     "output_type": "stream",
     "text": [
      "Lütfen adınızı giriniz : Buse\n",
      "Buse\n"
     ]
    }
   ],
   "source": [
    "name = input('Lütfen adınızı giriniz : ')\n",
    "print(name)"
   ]
  },
  {
   "cell_type": "code",
   "execution_count": 25,
   "id": "1d44e50c",
   "metadata": {},
   "outputs": [],
   "source": [
    "# veri tipleri nelerdir : (Jva,C#, C++,C) değişken_tipi değişken_adı = değişken_değeri\n",
    "# python : değişken_adı = değişken_değeri"
   ]
  },
  {
   "cell_type": "code",
   "execution_count": 26,
   "id": "2f1258b8",
   "metadata": {},
   "outputs": [],
   "source": [
    "# int : tam sayılarla işlem yapmak istediğimiz zaman kullanırız (Integer)"
   ]
  },
  {
   "cell_type": "code",
   "execution_count": 28,
   "id": "0f43fed2",
   "metadata": {},
   "outputs": [
    {
     "name": "stdout",
     "output_type": "stream",
     "text": [
      "10\n",
      "<class 'int'>\n"
     ]
    }
   ],
   "source": [
    "num1 = 10\n",
    "print(num1)\n",
    "print(type(num1))"
   ]
  },
  {
   "cell_type": "code",
   "execution_count": 29,
   "id": "74afce9f",
   "metadata": {},
   "outputs": [],
   "source": [
    "# str : Metinsel ifadelerde kullanılan bir tiptir. (String)"
   ]
  },
  {
   "cell_type": "code",
   "execution_count": 30,
   "id": "be5f7954",
   "metadata": {},
   "outputs": [
    {
     "name": "stdout",
     "output_type": "stream",
     "text": [
      "Merhaba ben bir metinim.\n",
      "<class 'str'>\n"
     ]
    }
   ],
   "source": [
    "metin1 = 'Merhaba ben bir metinim.'\n",
    "print(metin1)\n",
    "print(type(metin1))"
   ]
  },
  {
   "cell_type": "code",
   "execution_count": 31,
   "id": "a701e772",
   "metadata": {},
   "outputs": [
    {
     "name": "stdout",
     "output_type": "stream",
     "text": [
      "3.14\n",
      "<class 'float'>\n"
     ]
    }
   ],
   "source": [
    "#float : Ondalıklı sayılar için kullanılan bir tiptir.\n",
    "pi = 3.14\n",
    "print(pi)\n",
    "print(type(pi))"
   ]
  },
  {
   "cell_type": "code",
   "execution_count": 35,
   "id": "6d916837",
   "metadata": {},
   "outputs": [
    {
     "name": "stdout",
     "output_type": "stream",
     "text": [
      "<class 'complex'>\n",
      "(2+3j)\n"
     ]
    }
   ],
   "source": [
    "# complex : Matematikte karmaşık sayılara karşılık gelen veri tipidir.\n",
    "z = 2 + 3j\n",
    "print(type(z))\n",
    "print(z)"
   ]
  },
  {
   "cell_type": "code",
   "execution_count": 37,
   "id": "2456e6de",
   "metadata": {},
   "outputs": [
    {
     "name": "stdout",
     "output_type": "stream",
     "text": [
      "['Mavi', 'Yeşil', 'Siyah', 'Kırmızı', 1, 2, 3]\n",
      "<class 'list'>\n"
     ]
    }
   ],
   "source": [
    "# list = Birden fazla veri grubuyla çalışmak istediğimiz zaman kullandığımız veri tipidir.\n",
    "renkler = ['Mavi','Yeşil','Siyah','Kırmızı',1,2,3]\n",
    "#            0       1       2       3      4 5 6 \n",
    "print(renkler)\n",
    "print(type(renkler))"
   ]
  },
  {
   "cell_type": "code",
   "execution_count": 38,
   "id": "a01a7bbe",
   "metadata": {},
   "outputs": [
    {
     "name": "stdout",
     "output_type": "stream",
     "text": [
      "Siyah\n"
     ]
    }
   ],
   "source": [
    "print(renkler[2])"
   ]
  },
  {
   "cell_type": "code",
   "execution_count": 40,
   "id": "a257bd0b",
   "metadata": {},
   "outputs": [
    {
     "name": "stdout",
     "output_type": "stream",
     "text": [
      "True\n",
      "False\n",
      "<class 'bool'>\n",
      "<class 'bool'>\n"
     ]
    }
   ],
   "source": [
    "#bool: Mantıksal ifadeler için kullanılır True, False değerlerini alır.\n",
    "dogru = True\n",
    "yanlis = False\n",
    "print(dogru)\n",
    "print(yanlis)\n",
    "\n",
    "print(type(dogru))\n",
    "print(type(yanlis))"
   ]
  },
  {
   "cell_type": "code",
   "execution_count": 41,
   "id": "23d84c48",
   "metadata": {},
   "outputs": [],
   "source": [
    "# Operatörler\n",
    "# Aritmetik operatörler \n",
    "# + , - ,/, * \n",
    "# // Tam sayı bölme \n",
    "# % mod alma \n",
    "# ** üs alma"
   ]
  },
  {
   "cell_type": "code",
   "execution_count": 43,
   "id": "c63226bd",
   "metadata": {},
   "outputs": [
    {
     "name": "stdout",
     "output_type": "stream",
     "text": [
      "30\n",
      "20\n",
      "5.0\n",
      "5\n",
      "25\n",
      "0\n"
     ]
    }
   ],
   "source": [
    "x = 25\n",
    "y = 5\n",
    "print(x+y)\n",
    "print(x-y)\n",
    "print(x/y)\n",
    "print(25//5)\n",
    "print(5**2)\n",
    "print(25%5)"
   ]
  },
  {
   "cell_type": "code",
   "execution_count": 48,
   "id": "a5e8c013",
   "metadata": {},
   "outputs": [
    {
     "name": "stdout",
     "output_type": "stream",
     "text": [
      "MerhabalarMerhabalarMerhabalarMerhabalarMerhabalar\n"
     ]
    }
   ],
   "source": [
    "deger = \"Merhabalar \" * 5\n",
    "print(deger)"
   ]
  },
  {
   "cell_type": "code",
   "execution_count": 49,
   "id": "18f24a6d",
   "metadata": {},
   "outputs": [
    {
     "name": "stdout",
     "output_type": "stream",
     "text": [
      "True\n",
      "False\n",
      "True\n",
      "True\n",
      "False\n",
      "True\n"
     ]
    }
   ],
   "source": [
    "# karşılaştırma operatörleri : \n",
    "# < küçüktür\n",
    "# > büyüktür\n",
    "# <= küçük eşittir\n",
    "# >= büyük eşittir\n",
    "# == eşittir \n",
    "# != eşit değildir.\n",
    "\n",
    "a = 5\n",
    "b = 25\n",
    "c= 25\n",
    "d = 1\n",
    "e= -256\n",
    "\n",
    "print(a<b)\n",
    "print(e>b)\n",
    "print(b>=c)\n",
    "print(b<=c)\n",
    "print(b!=c)\n",
    "print(b==c)\n"
   ]
  },
  {
   "cell_type": "code",
   "execution_count": 51,
   "id": "619f3bec",
   "metadata": {},
   "outputs": [
    {
     "name": "stdout",
     "output_type": "stream",
     "text": [
      "37464.0\n"
     ]
    }
   ],
   "source": [
    "print(6*7*35.68*25)"
   ]
  },
  {
   "cell_type": "code",
   "execution_count": 52,
   "id": "1f855d8b",
   "metadata": {},
   "outputs": [],
   "source": [
    "# Mantıksal operatörler : \n",
    "# and (&) her iki koşul doğruysa true döner \n",
    "# or (|) her 2 koşuldan 1 tanesi doğruysa true döner.\n",
    "# not Sonucu Tersine çeviren operatördür."
   ]
  },
  {
   "cell_type": "code",
   "execution_count": 53,
   "id": "21e77563",
   "metadata": {},
   "outputs": [
    {
     "name": "stdout",
     "output_type": "stream",
     "text": [
      "False\n",
      "True\n",
      "False\n"
     ]
    }
   ],
   "source": [
    "x = True\n",
    "y = False\n",
    "z = True\n",
    "\n",
    "print(x and y) # False\n",
    "print(x or y) # True\n",
    "print(not (x and z)) # False\n"
   ]
  },
  {
   "cell_type": "code",
   "execution_count": 54,
   "id": "e41f983b",
   "metadata": {},
   "outputs": [
    {
     "name": "stdout",
     "output_type": "stream",
     "text": [
      "False\n",
      "True\n",
      "True\n",
      "True\n"
     ]
    }
   ],
   "source": [
    "print(not((3<5)or (5!=5)))  # False\n",
    "print((5 <=5) and (8.5>4.8)) # True\n",
    "print(not(5!=5)) # True\n",
    "print(not(123>-123 and 25!=25)) #True"
   ]
  },
  {
   "cell_type": "code",
   "execution_count": 55,
   "id": "8250607a",
   "metadata": {},
   "outputs": [],
   "source": [
    "# Atama operatörleri \n",
    "# x+= Toplayıp atama\n",
    "# -= Çıkarıp atama\n",
    "# *= Çarpıp atam \n",
    "# /= Bölüp atama\n",
    "# **= Üs alıp atama"
   ]
  },
  {
   "cell_type": "code",
   "execution_count": 58,
   "id": "13a3f616",
   "metadata": {},
   "outputs": [
    {
     "name": "stdout",
     "output_type": "stream",
     "text": [
      "13 16 10\n"
     ]
    }
   ],
   "source": [
    "x= 10\n",
    "y = 2\n",
    "z = 5\n",
    "\n",
    "x += 3 \n",
    "z*=2\n",
    "\n",
    "y**=4\n",
    "print(x,y,z)"
   ]
  },
  {
   "cell_type": "code",
   "execution_count": 59,
   "id": "d33ab394",
   "metadata": {},
   "outputs": [],
   "source": [
    "# üyelik operatörleri \n",
    "# in bir koleksiyon içerisinde isteilen veri var mı diye sorar\n",
    "# not in bir koleksiyon içerisinde isteilen veri yok mu diye sorar"
   ]
  },
  {
   "cell_type": "code",
   "execution_count": 63,
   "id": "ef780c0e",
   "metadata": {},
   "outputs": [
    {
     "name": "stdout",
     "output_type": "stream",
     "text": [
      "True\n",
      "False\n"
     ]
    }
   ],
   "source": [
    "meyveler = [\"Elma\",\"Armut\",\"Kiraz\",\"Portakal\",\"Vişne\",'Kayısı']\n",
    "var_mi = 'Elma' in meyveler\n",
    "print(var_mi)\n",
    "\n",
    "yok_mu = 'Kayısı' not in meyveler\n",
    "print(yok_mu)"
   ]
  },
  {
   "cell_type": "code",
   "execution_count": 64,
   "id": "fe4a9f8c",
   "metadata": {},
   "outputs": [],
   "source": [
    "# Kimlik operatörleri : \n",
    "# is Aynı nesne mi diye sorar\n",
    "# not is  Farklı nesne mi diye sorar"
   ]
  },
  {
   "cell_type": "code",
   "execution_count": 72,
   "id": "51fde983",
   "metadata": {},
   "outputs": [
    {
     "name": "stdout",
     "output_type": "stream",
     "text": [
      "False\n",
      "254\n"
     ]
    }
   ],
   "source": [
    "a = [1,23,45]\n",
    "a = asd\n",
    "b = [1,23,45]\n",
    "print(a is c)\n",
    "print(a)"
   ]
  },
  {
   "cell_type": "code",
   "execution_count": 73,
   "id": "cc02baa6",
   "metadata": {},
   "outputs": [
    {
     "name": "stdout",
     "output_type": "stream",
     "text": [
      "15.5 <class 'float'>\n"
     ]
    }
   ],
   "source": [
    "# Otomatik tip dönüşümü\n",
    "#manuel tip dönüşümü\n",
    "sayi_int = 5\n",
    "float_sayi = sayi_int + 10.5\n",
    "print(float_sayi, type(float_sayi))"
   ]
  },
  {
   "cell_type": "code",
   "execution_count": 74,
   "id": "5b50e19e",
   "metadata": {},
   "outputs": [
    {
     "name": "stdout",
     "output_type": "stream",
     "text": [
      "25 <class 'int'>\n",
      "25.0 <class 'float'>\n"
     ]
    }
   ],
   "source": [
    "# manuel tipdönüşümü : \n",
    "a1 = \"25\"\n",
    "a1_int = int(a1)\n",
    "print(a1_int, type(a1_int))\n",
    "\n",
    "a1_float = float(a1)\n",
    "print(a1_float, type(a1_float))\n",
    "\n",
    "\n"
   ]
  },
  {
   "cell_type": "code",
   "execution_count": 75,
   "id": "d83210d9",
   "metadata": {},
   "outputs": [
    {
     "ename": "ValueError",
     "evalue": "invalid literal for int() with base 10: 'merhaba'",
     "output_type": "error",
     "traceback": [
      "\u001b[1;31m---------------------------------------------------------------------------\u001b[0m",
      "\u001b[1;31mValueError\u001b[0m                                Traceback (most recent call last)",
      "Cell \u001b[1;32mIn[75], line 2\u001b[0m\n\u001b[0;32m      1\u001b[0m a3 \u001b[38;5;241m=\u001b[39m \u001b[38;5;124m\"\u001b[39m\u001b[38;5;124mmerhaba\u001b[39m\u001b[38;5;124m\"\u001b[39m\n\u001b[1;32m----> 2\u001b[0m a3_int \u001b[38;5;241m=\u001b[39m \u001b[38;5;28;43mint\u001b[39;49m\u001b[43m(\u001b[49m\u001b[43ma3\u001b[49m\u001b[43m)\u001b[49m\n\u001b[0;32m      3\u001b[0m \u001b[38;5;28mprint\u001b[39m(a3_int)\n",
      "\u001b[1;31mValueError\u001b[0m: invalid literal for int() with base 10: 'merhaba'"
     ]
    }
   ],
   "source": [
    "a3 = \"merhaba\"\n",
    "a3_int = int(a3)\n",
    "print(a3_int)"
   ]
  },
  {
   "cell_type": "code",
   "execution_count": 78,
   "id": "b2ff5841",
   "metadata": {},
   "outputs": [
    {
     "ename": "ValueError",
     "evalue": "invalid literal for int() with base 10: '25.5'",
     "output_type": "error",
     "traceback": [
      "\u001b[1;31m---------------------------------------------------------------------------\u001b[0m",
      "\u001b[1;31mValueError\u001b[0m                                Traceback (most recent call last)",
      "Cell \u001b[1;32mIn[78], line 2\u001b[0m\n\u001b[0;32m      1\u001b[0m a2 \u001b[38;5;241m=\u001b[39m \u001b[38;5;124m\"\u001b[39m\u001b[38;5;124m25.5\u001b[39m\u001b[38;5;124m\"\u001b[39m\n\u001b[1;32m----> 2\u001b[0m a2_int \u001b[38;5;241m=\u001b[39m \u001b[38;5;28;43mint\u001b[39;49m\u001b[43m(\u001b[49m\u001b[43ma2\u001b[49m\u001b[43m)\u001b[49m\n\u001b[0;32m      3\u001b[0m \u001b[38;5;28mprint\u001b[39m(a2_int)\n",
      "\u001b[1;31mValueError\u001b[0m: invalid literal for int() with base 10: '25.5'"
     ]
    }
   ],
   "source": [
    "a2 = \"25.5\"\n",
    "a2_int = int(a2)\n",
    "print(a2_int)"
   ]
  },
  {
   "cell_type": "code",
   "execution_count": 79,
   "id": "50caadbf",
   "metadata": {},
   "outputs": [
    {
     "name": "stdout",
     "output_type": "stream",
     "text": [
      "False\n",
      "True\n"
     ]
    }
   ],
   "source": [
    "sifir = 0\n",
    "bir = 1\n",
    "\n",
    "print(bool(sifir))\n",
    "print(bool(bir))"
   ]
  },
  {
   "cell_type": "code",
   "execution_count": 80,
   "id": "78baeb45",
   "metadata": {},
   "outputs": [
    {
     "name": "stdout",
     "output_type": "stream",
     "text": [
      "False\n",
      "True\n"
     ]
    }
   ],
   "source": [
    "print(bool(''))\n",
    "print(bool('Selam'))"
   ]
  },
  {
   "cell_type": "code",
   "execution_count": 81,
   "id": "54276b7c",
   "metadata": {},
   "outputs": [
    {
     "name": "stdout",
     "output_type": "stream",
     "text": [
      "['S', 'e', 'l', 'a', 'm', ' ', 'b', 'e', 'n', ' ', 'Ö', 'm', 'e', 'r']\n"
     ]
    }
   ],
   "source": [
    "veri = 'Selam ben Ömer'\n",
    "liste1 = list(veri)\n",
    "print(liste1)"
   ]
  },
  {
   "cell_type": "code",
   "execution_count": 85,
   "id": "a6d9d29c",
   "metadata": {},
   "outputs": [
    {
     "name": "stdout",
     "output_type": "stream",
     "text": [
      "Lütfen yaşınızı giriniz : 6\n",
      "Reşit değilsiniz. Ehliyet alamazsınız.\n"
     ]
    }
   ],
   "source": [
    "age = int(input('Lütfen yaşınızı giriniz : '))\n",
    "if age >= 18:\n",
    "    print('Reşitsiniz. Ehliyet alabilirsiniz')\n",
    "else:\n",
    "    print('Reşit değilsiniz. Ehliyet alamazsınız.')"
   ]
  },
  {
   "cell_type": "code",
   "execution_count": 90,
   "id": "82567ed3",
   "metadata": {},
   "outputs": [
    {
     "name": "stdout",
     "output_type": "stream",
     "text": [
      "Lütfen bir sayı giriniz: -256\n",
      "Girmiş olduğunuz sayı negatiftir.  -256\n"
     ]
    }
   ],
   "source": [
    "sayi = int(input('Lütfen bir sayı giriniz: '))\n",
    "if sayi>0:\n",
    "    print(\"Girmiş olduğunuz sayı pozitiftir.\",sayi)\n",
    "elif sayi==0:\n",
    "    print('Girmiş olduğunuz sayı 0 a eşittir.')\n",
    "else:\n",
    "    print('Girmiş olduğunuz sayı negatiftir. ',sayi)"
   ]
  },
  {
   "cell_type": "code",
   "execution_count": 93,
   "id": "47f1f027",
   "metadata": {},
   "outputs": [
    {
     "name": "stdout",
     "output_type": "stream",
     "text": [
      "Lütfen bir sayı giriniz: 3\n",
      "Girmiş olduğunuz sayı tektir.\n"
     ]
    }
   ],
   "source": [
    "sayi1 = int(input('Lütfen bir sayı giriniz: '))\n",
    "if sayi1 %2==0:\n",
    "    print('Girmiş olduğunuz sayı çifttir.')\n",
    "else:\n",
    "    print('Girmiş olduğunuz sayı tektir.')"
   ]
  },
  {
   "cell_type": "code",
   "execution_count": 96,
   "id": "d36f6917",
   "metadata": {},
   "outputs": [
    {
     "name": "stdout",
     "output_type": "stream",
     "text": [
      "Sayi değeri 10 dan büyük\n"
     ]
    }
   ],
   "source": [
    "sayi2 = 12\n",
    "if sayi2 > 10:\n",
    "    print('Sayi değeri 10 dan büyük')\n",
    "    if sayi2>15:\n",
    "        print('Sayi değeri 15 ten de büyük')"
   ]
  },
  {
   "cell_type": "code",
   "execution_count": 99,
   "id": "97ad36e4",
   "metadata": {},
   "outputs": [
    {
     "name": "stdout",
     "output_type": "stream",
     "text": [
      "Lütfen yaşınızı giriniz : 15\n",
      "Reşit değilsiniz, Ehliyet alamazsınız.\n"
     ]
    }
   ],
   "source": [
    "# Ternary if \n",
    "yas = int(input('Lütfen yaşınızı giriniz : '))\n",
    "mesaj = \"Reşitsiniz, Ehliyet alabilirsiniz\" if yas>=18 else \"Reşit değilsiniz, Ehliyet alamazsınız.\" \n",
    "print(mesaj)"
   ]
  },
  {
   "cell_type": "code",
   "execution_count": 103,
   "id": "00d81dc6",
   "metadata": {},
   "outputs": [
    {
     "name": "stdout",
     "output_type": "stream",
     "text": [
      "Lütfen 1 ile 7 arasında bir rakam giriniz : 87\n",
      "Geçersiz karakter girdiniz.\n"
     ]
    }
   ],
   "source": [
    "# match-case : switch-case in python karşılığıdır.\n",
    "# NOT: python 3.10 versiyonu ve üzeri için yazılır.\n",
    "gun = int(input('Lütfen 1 ile 7 arasında bir rakam giriniz : '))\n",
    "gun_Adi = None\n",
    "match gun:\n",
    "    case 1:\n",
    "        gun_Adi = \"Pazartesi\"\n",
    "    case 2:\n",
    "        gun_Adi = \"Salı\"\n",
    "    case _:\n",
    "        gun_Adi = \"Geçersiz karakter girdiniz.\"\n",
    "        \n",
    "print(gun_Adi)"
   ]
  },
  {
   "cell_type": "code",
   "execution_count": 108,
   "id": "b6ef4176",
   "metadata": {},
   "outputs": [
    {
     "name": "stdout",
     "output_type": "stream",
     "text": [
      "Lütfen 1 ile 7 arasında bir rakam giriniz : 7\n",
      "Hafta Sonu\n"
     ]
    }
   ],
   "source": [
    "day = int(input('Lütfen 1 ile 7 arasında bir rakam giriniz : '))\n",
    "gun_Adi = None\n",
    "match day:\n",
    "    case 1|2|3|4|5:\n",
    "        gun_Adi=\"Hafta İçi\"\n",
    "    case 6|7:\n",
    "        gun_Adi = \"Hafta Sonu\"\n",
    "    case _:\n",
    "        gun_Adi = \"Geçersiz aralık girdiniz.\"\n",
    "print(gun_Adi)\n",
    "    "
   ]
  },
  {
   "cell_type": "code",
   "execution_count": 111,
   "id": "2e98ad4f",
   "metadata": {},
   "outputs": [
    {
     "name": "stdout",
     "output_type": "stream",
     "text": [
      "Lütfen puanınızı giriniz : 81\n",
      "B\n"
     ]
    }
   ],
   "source": [
    "# 90 - 100 A\n",
    "# 80-90 B\n",
    "#70-80 C\n",
    "# 60-70 D\n",
    "# 60 dan küçük ise F\n",
    "# Geçersiz puan aldınız.\n",
    "puan = int(input(\"Lütfen puanınızı giriniz : \"))\n",
    "message = None\n",
    "if puan >90 and puan<=100:\n",
    "    message= \"A\"\n",
    "elif puan >80 and puan<=90:\n",
    "    message=\"B\"\n",
    "elif puan >70 and puan<=80:\n",
    "    message=\"C\"\n",
    "elif puan >=60 and puan<=70:\n",
    "    message = \"F (Kaldınız.)\"\n",
    "else:\n",
    "    message=\"Geçersiz not girdiniz.\"\n",
    "print(message)"
   ]
  },
  {
   "cell_type": "code",
   "execution_count": 112,
   "id": "003a4788",
   "metadata": {},
   "outputs": [
    {
     "name": "stdout",
     "output_type": "stream",
     "text": [
      "Lütfen derece giriniz :15\n",
      "Soğuk\n"
     ]
    }
   ],
   "source": [
    "derece = int(input(\"Lütfen derece giriniz :\"))\n",
    "sicaklik = None\n",
    "match derece:\n",
    "    case _ if derece<0:\n",
    "        sicaklik = \"Çok Soğuk\"\n",
    "    case _ if 10<=derece<=20:\n",
    "        sicaklik = \"Soğuk\"\n",
    "    case _ if 30<= derece<=40:\n",
    "        sicaklik =\"Sıcak\"\n",
    "    case _:\n",
    "        sicaklik=\"Geçersiz sıcaklık\"\n",
    "        \n",
    "print(sicaklik)\n",
    "        "
   ]
  },
  {
   "cell_type": "code",
   "execution_count": null,
   "id": "313cdada",
   "metadata": {},
   "outputs": [],
   "source": []
  }
 ],
 "metadata": {
  "kernelspec": {
   "display_name": "Python 3 (ipykernel)",
   "language": "python",
   "name": "python3"
  },
  "language_info": {
   "codemirror_mode": {
    "name": "ipython",
    "version": 3
   },
   "file_extension": ".py",
   "mimetype": "text/x-python",
   "name": "python",
   "nbconvert_exporter": "python",
   "pygments_lexer": "ipython3",
   "version": "3.10.9"
  }
 },
 "nbformat": 4,
 "nbformat_minor": 5
}
