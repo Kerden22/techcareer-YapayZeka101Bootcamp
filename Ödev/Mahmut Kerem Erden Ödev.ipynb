{
 "cells": [
  {
   "attachments": {
    "e1b185b7-a0b5-4441-b328-9b6c9d954679.png": {
     "image/png": "[encoded data removed]"
    }
   },
   "cell_type": "markdown",
   "id": "87c1e79b-bc79-4fc5-b1d6-26f700626432",
   "metadata": {},
   "source": [
    "### Araştırma Görevi (While Döngüsü)\n",
    "\n",
    "## **While döngüsü nedir ve for döngüsünden farkı nedir?**\n",
    "\n",
    "**While Döngüsü**: Bir koşul doğru olduğu sürece çalışan döngüdür. Koşul yanlış olduğunda döngü sona erer.\n",
    "\n",
    "**For Döngüsü**: Belirli bir aralıkta veya veri yapısında iterasyon yapmak için kullanılır. Genellikle tekrarlanacak adım sayısı bellidir.\n",
    "\n",
    "**Farkları:**\n",
    "\n",
    "While döngüsü, koşul bazlıdır; ne kadar süreceği bilinmez.\n",
    "\n",
    "For döngüsü, genellikle belirli bir aralıkta çalışır ve kaç kez tekrar edeceği önceden bellidir.\n",
    "\n",
    "## **Hangi durumlarda while döngüsü daha kullanışlıdır? Bir örnek bulup açıklayın**\n",
    "\n",
    "While döngüsü, döngü tekrar sayısının önceden bilinmediği durumlarda kullanışlıdır.\n",
    "\n",
    "Kullanım Durumları: Kullanıcıdan giriş almak, belirli bir koşul sağlanana kadar işlem yapmak, oyun veya menü sistemlerinde döngüleri kontrol etmek.\n",
    "\n",
    "Örnek: Kullanıcı doğru şifre girene kadar giriş isteme.\n",
    "\n",
    "sifre = \"python123\"\n",
    "\n",
    "girilen = \"\"\n",
    "\n",
    "while girilen != sifre:\n",
    "\n",
    "    girilen = input(\"Şifreyi girin: \")\n",
    "\n",
    "print(\"Giriş başarılı!\")\n",
    "\n",
    "\n",
    "## **While döngüsünün çalışma mekanizmasını araştırın ve çizin**\n",
    "\n",
    "Koşul kontrol edilir.\n",
    "\n",
    "Eğer doğru (True) ise adım 2’ye geçilir.\n",
    "\n",
    "Eğer yanlış (False) ise döngü sona erer.\n",
    "\n",
    "Döngü içindeki kod çalıştırılır.\n",
    "\n",
    "Koşula tekrar dönülür ve tekrar kontrol edilir.\n",
    "\n",
    "Koşul yanlış olana kadar döngü devam eder.\n",
    "\n",
    "![image.png](attachment:e1b185b7-a0b5-4441-b328-9b6c9d954679.png)\n",
    "\n",
    "\n"
   ]
  },
  {
   "cell_type": "code",
   "execution_count": 3,
   "id": "badfa28a-638b-43f8-8e58-accb772ad9db",
   "metadata": {},
   "outputs": [
    {
     "name": "stdin",
     "output_type": "stream",
     "text": [
      "birinci sayıyı giriniz : 1\n",
      "ikinci sayıyı giriniz : 2\n"
     ]
    },
    {
     "name": "stdout",
     "output_type": "stream",
     "text": [
      "3\n"
     ]
    }
   ],
   "source": [
    "# Soru 1: Sayıların Toplamı\n",
    "sayi1 = int(input(\"birinci sayıyı giriniz :\" ))\n",
    "sayi2 = int(input(\"ikinci sayıyı giriniz :\" ))\n",
    "\n",
    "toplam = sayi1 + sayi2\n",
    "print(toplam)"
   ]
  },
  {
   "cell_type": "code",
   "execution_count": 14,
   "id": "35d34237-0741-4009-b878-b2073d57d3a2",
   "metadata": {},
   "outputs": [
    {
     "name": "stdin",
     "output_type": "stream",
     "text": [
      "bir sayı giriniz : 0\n"
     ]
    },
    {
     "name": "stdout",
     "output_type": "stream",
     "text": [
      "Sıfır\n"
     ]
    }
   ],
   "source": [
    "# Soru 2: Pozitif veya Negatif\n",
    "sayi1 = int(input(\"bir sayı giriniz :\" ))\n",
    "\n",
    "if sayi1 > 0:\n",
    "    print(\"Pozitif\")\n",
    "elif sayi1 <0:\n",
    "    print(\"Negatif\")\n",
    "else:\n",
    "    print(\"Sıfır\")"
   ]
  },
  {
   "cell_type": "code",
   "execution_count": 22,
   "id": "d7638a18-9c41-4448-83e9-3c52225d1886",
   "metadata": {},
   "outputs": [
    {
     "name": "stdin",
     "output_type": "stream",
     "text": [
      "Birinci sayıyı giriniz:  1\n",
      "İkinci sayıyı giriniz:  2\n",
      "Üçüncü sayıyı giriniz:  3\n"
     ]
    },
    {
     "name": "stdout",
     "output_type": "stream",
     "text": [
      "En büyük sayı: 3\n"
     ]
    }
   ],
   "source": [
    "# Soru 3: En Büyük Sayı\n",
    "sayi1 = int(input(\"Birinci sayıyı giriniz: \"))\n",
    "sayi2 = int(input(\"İkinci sayıyı giriniz: \"))\n",
    "sayi3 = int(input(\"Üçüncü sayıyı giriniz: \"))\n",
    "\n",
    "if sayi1 > sayi2 and sayi1 > sayi3:\n",
    "    en_buyuk = sayi1\n",
    "elif sayi2 > sayi1 and sayi2 > sayi3:\n",
    "    en_buyuk = sayi2\n",
    "else:\n",
    "    en_buyuk = sayi3\n",
    "\n",
    "print(\"En büyük sayı:\", en_buyuk)"
   ]
  },
  {
   "cell_type": "code",
   "execution_count": 24,
   "id": "d1c15edc-20ff-412c-a89a-e37c5d6f10b6",
   "metadata": {},
   "outputs": [
    {
     "name": "stdin",
     "output_type": "stream",
     "text": [
      "Birinci sayıyı giriniz:  2\n"
     ]
    },
    {
     "name": "stdout",
     "output_type": "stream",
     "text": [
      "Çift Sayı\n"
     ]
    }
   ],
   "source": [
    "# Soru 4: Çift veya Tek \n",
    "sayi1 = int(input(\"Birinci sayıyı giriniz: \"))\n",
    "\n",
    "if sayi1 % 2 == 0 :\n",
    "    print(\"Çift Sayı\")\n",
    "else:\n",
    "    print(\"Tek Sayı\") "
   ]
  },
  {
   "cell_type": "code",
   "execution_count": 26,
   "id": "af65e13e-33ad-45de-91bd-eb51e6b21a42",
   "metadata": {},
   "outputs": [
    {
     "name": "stdin",
     "output_type": "stream",
     "text": [
      "1-7 arasında bir sayı giriniz:  2\n"
     ]
    },
    {
     "name": "stdout",
     "output_type": "stream",
     "text": [
      "Salı\n"
     ]
    }
   ],
   "source": [
    "# Soru 5: Haftanın Günü \n",
    "sayi = int(input(\"1-7 arasında bir sayı giriniz: \"))\n",
    "\n",
    "match sayi:\n",
    "    case 1:\n",
    "        print(\"Pazartesi\")\n",
    "    case 2:\n",
    "        print(\"Salı\")\n",
    "    case 3:\n",
    "        print(\"Çarşamba\")\n",
    "    case 4:\n",
    "        print(\"Perşembe\")\n",
    "    case 5:\n",
    "        print(\"Cuma\")\n",
    "    case 6:\n",
    "        print(\"Cumartesi\")\n",
    "    case 7:\n",
    "        print(\"Pazar\")\n",
    "    case _:\n",
    "        print(\"Geçersiz gün\")\n"
   ]
  },
  {
   "cell_type": "code",
   "execution_count": 1,
   "id": "f7be5b58-a685-4578-90ca-ad0fe1b3850e",
   "metadata": {},
   "outputs": [
    {
     "name": "stdin",
     "output_type": "stream",
     "text": [
      "Birinci sayıyı giriniz:  1\n",
      "İkinci sayıyı giriniz:  2\n",
      "İşlem seçiniz (+, -, *, /):  +\n"
     ]
    },
    {
     "name": "stdout",
     "output_type": "stream",
     "text": [
      "Sonuç: 3\n"
     ]
    }
   ],
   "source": [
    "# Soru 6: Basit Hesap Makinesi\n",
    "sayi1 = int(input(\"Birinci sayıyı giriniz: \"))\n",
    "sayi2 = int(input(\"İkinci sayıyı giriniz: \"))\n",
    "islem = input(\"İşlem seçiniz (+, -, *, /): \")\n",
    "\n",
    "match islem:\n",
    "    case \"+\":\n",
    "        print(f\"Sonuç: {sayi1 + sayi2}\")\n",
    "    case \"-\":\n",
    "        print(f\"Sonuç: {sayi1 - sayi2}\")\n",
    "    case \"*\":\n",
    "        print(f\"Sonuç: {sayi1 * sayi2}\")\n",
    "    case \"/\":\n",
    "        if sayi2 != 0:\n",
    "            print(f\"Sonuç: {sayi1 / sayi2}\")\n",
    "        else:\n",
    "            print(\"Hata: Bir sayı sıfıra bölünemez\")\n",
    "    case _:\n",
    "        print(\"Geçersiz işlem!\")"
   ]
  },
  {
   "cell_type": "code",
   "execution_count": 47,
   "id": "1642f37a-d03a-4d5f-b507-9aefb2101e34",
   "metadata": {},
   "outputs": [
    {
     "name": "stdin",
     "output_type": "stream",
     "text": [
      "Bir sayı giriniz:  4\n"
     ]
    },
    {
     "name": "stdout",
     "output_type": "stream",
     "text": [
      "Toplam: 10\n"
     ]
    }
   ],
   "source": [
    "# Soru 7: 1’den N’e Kadar Toplam\n",
    "sayi = int(input(\"Bir sayı giriniz: \"))\n",
    "\n",
    "toplam = 0\n",
    "for i in range(1, sayi + 1):\n",
    "    toplam += i\n",
    "\n",
    "print(\"Toplam:\", toplam)"
   ]
  },
  {
   "cell_type": "code",
   "execution_count": 17,
   "id": "3aac4f5f-9e63-43e9-aedd-a4a58a52e8c0",
   "metadata": {},
   "outputs": [
    {
     "name": "stdin",
     "output_type": "stream",
     "text": [
      "Bir sayi giriniz : 5\n"
     ]
    },
    {
     "name": "stdout",
     "output_type": "stream",
     "text": [
      "5 x 1 = 5\n",
      "5 x 2 = 10\n",
      "5 x 3 = 15\n",
      "5 x 4 = 20\n",
      "5 x 5 = 25\n",
      "5 x 6 = 30\n",
      "5 x 7 = 35\n",
      "5 x 8 = 40\n",
      "5 x 9 = 45\n",
      "5 x 10 = 50\n"
     ]
    }
   ],
   "source": [
    "# Soru 8: Çarpım Tablosu\n",
    "sayi1 = int(input(\"Bir sayı giriniz :\"))\n",
    "\n",
    "for a in range(1 , 11):\n",
    "    print(sayi1, \"x\", a, \"=\", sayi1 * a)  "
   ]
  },
  {
   "cell_type": "code",
   "execution_count": 24,
   "id": "38940b4d-a171-4dd5-9ca7-a320c1245a3c",
   "metadata": {},
   "outputs": [
    {
     "name": "stdin",
     "output_type": "stream",
     "text": [
      "1. sayıyı giriniz:  1\n",
      "2. sayıyı giriniz:  2\n",
      "3. sayıyı giriniz:  3\n",
      "4. sayıyı giriniz:  2\n",
      "5. sayıyı giriniz:  2\n"
     ]
    },
    {
     "name": "stdout",
     "output_type": "stream",
     "text": [
      "Ortalama: 2.0\n"
     ]
    }
   ],
   "source": [
    "# Soru 9: Sayıların Ortalaması\n",
    "toplam = 0\n",
    "\n",
    "for i in range(5):\n",
    "    sayi = int(input(f\"{i+1}. sayıyı giriniz: \"))\n",
    "    toplam += sayi\n",
    "\n",
    "print(\"Ortalama:\", toplam / 5)"
   ]
  },
  {
   "cell_type": "code",
   "execution_count": 54,
   "id": "dfee556e-59bc-426b-97cc-dffe573a3510",
   "metadata": {},
   "outputs": [
    {
     "name": "stdin",
     "output_type": "stream",
     "text": [
      "Bir sayı giriniz :  5\n"
     ]
    },
    {
     "name": "stdout",
     "output_type": "stream",
     "text": [
      "Girilen sayı asaldır\n"
     ]
    }
   ],
   "source": [
    "# Soru 10: Asal Sayı Kontrolü\n",
    "sayi = int(input(\"Bir sayı giriniz : \"))\n",
    "\n",
    "if sayi < 2:\n",
    "    print(\"Girilen sayı asal değildir\")\n",
    "else:\n",
    "    asal = True\n",
    "    for i in range(2, sayi):\n",
    "        if sayi % i == 0:\n",
    "            asal = False\n",
    "            break\n",
    "    if asal:\n",
    "        print(\"Girilen sayı asaldır\")\n",
    "    else:\n",
    "        print(\"Girilen sayı asal değildir\")\n"
   ]
  },
  {
   "cell_type": "code",
   "execution_count": 2,
   "id": "7b9f1769-831c-4964-875e-63362f18cd9f",
   "metadata": {},
   "outputs": [
    {
     "name": "stdin",
     "output_type": "stream",
     "text": [
      "Bir sayı giriniz:  5\n"
     ]
    },
    {
     "name": "stdout",
     "output_type": "stream",
     "text": [
      "Faktöriyel : 120\n"
     ]
    }
   ],
   "source": [
    "# Soru 11: Faktöriyel Hesaplama \n",
    "sayi = int(input(\"Bir sayı giriniz: \"))\n",
    "\n",
    "faktoriyel = 1\n",
    "\n",
    "while sayi > 0:\n",
    "    faktoriyel *= sayi\n",
    "    sayi -= 1\n",
    "\n",
    "print(\"Faktöriyel :\", faktoriyel)"
   ]
  },
  {
   "cell_type": "code",
   "execution_count": 5,
   "id": "8e0eb783-ee23-44e8-afe0-3ad1c94d0a20",
   "metadata": {},
   "outputs": [
    {
     "name": "stdin",
     "output_type": "stream",
     "text": [
      "Tahmin ettiğiniz sayı:  52\n"
     ]
    },
    {
     "name": "stdout",
     "output_type": "stream",
     "text": [
      "Daha büyük bir sayı girin!\n",
      "Kalan tahmin hakkınız: 4\n"
     ]
    },
    {
     "name": "stdin",
     "output_type": "stream",
     "text": [
      "Tahmin ettiğiniz sayı:  75\n"
     ]
    },
    {
     "name": "stdout",
     "output_type": "stream",
     "text": [
      "Daha büyük bir sayı girin!\n",
      "Kalan tahmin hakkınız: 3\n"
     ]
    },
    {
     "name": "stdin",
     "output_type": "stream",
     "text": [
      "Tahmin ettiğiniz sayı:  85\n"
     ]
    },
    {
     "name": "stdout",
     "output_type": "stream",
     "text": [
      "Daha büyük bir sayı girin!\n",
      "Kalan tahmin hakkınız: 2\n"
     ]
    },
    {
     "name": "stdin",
     "output_type": "stream",
     "text": [
      "Tahmin ettiğiniz sayı:  95\n"
     ]
    },
    {
     "name": "stdout",
     "output_type": "stream",
     "text": [
      "Daha büyük bir sayı girin!\n",
      "Kalan tahmin hakkınız: 1\n"
     ]
    },
    {
     "name": "stdin",
     "output_type": "stream",
     "text": [
      "Tahmin ettiğiniz sayı:  97\n"
     ]
    },
    {
     "name": "stdout",
     "output_type": "stream",
     "text": [
      "Tebrikler! Doğru tahmin ettiniz \n"
     ]
    }
   ],
   "source": [
    "# Soru 12: Sayı Tahmin Oyunu\n",
    "import random\n",
    "\n",
    "rastgele_sayi = random.randint(1, 100)  \n",
    "tahmin_hakki = 5 \n",
    "\n",
    "while tahmin_hakki > 0:\n",
    "    tahmin = int(input(\"Tahmin ettiğiniz sayı: \"))\n",
    "\n",
    "    if tahmin == rastgele_sayi:\n",
    "        print(\"Tebrikler! Doğru tahmin ettiniz \")\n",
    "        break\n",
    "    elif tahmin < rastgele_sayi:\n",
    "        print(\"Daha büyük bir sayı girin!\")\n",
    "    else:\n",
    "        print(\"Daha küçük bir sayı girin!\")\n",
    "\n",
    "    tahmin_hakki -= 1  \n",
    "\n",
    "    if tahmin_hakki > 0:\n",
    "        print(f\"Kalan tahmin hakkınız: {tahmin_hakki}\")\n",
    "    else:\n",
    "        print(f\"Tahmin hakkınız bitti. Doğru sayı: {rastgele_sayi}\")"
   ]
  },
  {
   "cell_type": "code",
   "execution_count": 12,
   "id": "9107fe5b-4645-4d28-b4d7-ed6e9867f187",
   "metadata": {},
   "outputs": [
    {
     "name": "stdin",
     "output_type": "stream",
     "text": [
      "Fibonacci terim sayısı giriniz  8\n"
     ]
    },
    {
     "name": "stdout",
     "output_type": "stream",
     "text": [
      "0 1 1 2 3 5 8 13 \n"
     ]
    }
   ],
   "source": [
    "# Soru 13: Fibonacci Serisi \n",
    "sayi = int(input(\"Fibonacci terim sayısı giriniz \"))\n",
    "\n",
    "a = 0\n",
    "b = 1  \n",
    "\n",
    "for _ in range(sayi):\n",
    "    print(a, end=\" \")  \n",
    "    a, b = b, a + b  \n",
    "\n",
    "print()  "
   ]
  },
  {
   "cell_type": "code",
   "execution_count": 17,
   "id": "3847875f-49b8-4056-bb02-7a99caace9ae",
   "metadata": {},
   "outputs": [
    {
     "name": "stdin",
     "output_type": "stream",
     "text": [
      "Bir sayı giriniz:  1234\n"
     ]
    },
    {
     "name": "stdout",
     "output_type": "stream",
     "text": [
      "Ters çevrilmiş hali: 4321\n"
     ]
    }
   ],
   "source": [
    "# Soru 14: Tersine Çevirme\n",
    "sayi = int(input(\"Bir sayı giriniz: \"))\n",
    "\n",
    "ters_sayi = 0\n",
    "\n",
    "while sayi > 0:\n",
    "    kalan = sayi % 10  \n",
    "    ters_sayi = ters_sayi * 10 + kalan  \n",
    "    sayi //= 10  \n",
    "\n",
    "print(\"Ters çevrilmiş hali:\", ters_sayi)"
   ]
  },
  {
   "cell_type": "code",
   "execution_count": 24,
   "id": "53adc7f5-b749-4ec6-84fd-4af1b524503a",
   "metadata": {},
   "outputs": [
    {
     "name": "stdin",
     "output_type": "stream",
     "text": [
      "Bir sayı giriniz:  5\n"
     ]
    },
    {
     "name": "stdout",
     "output_type": "stream",
     "text": [
      "Sayı bir Armstrong sayısıdır.\n"
     ]
    }
   ],
   "source": [
    "# Soru 15: Armstrong Sayısı\n",
    "sayi = int(input(\"Bir sayı giriniz: \"))\n",
    "orjinal_sayi = sayi \n",
    "basamak_sayisi = len(str(sayi))  \n",
    "toplam = 0\n",
    "\n",
    "while sayi > 0:\n",
    "    basamak = sayi % 10  \n",
    "    toplam += basamak ** basamak_sayisi  \n",
    "    sayi //= 10  \n",
    "\n",
    "if toplam == orjinal_sayi:\n",
    "    print(\"Sayı bir Armstrong sayısıdır.\")\n",
    "else:\n",
    "    print(\"Sayı Armstrong sayısı değildir.\")"
   ]
  },
  {
   "cell_type": "code",
   "execution_count": 8,
   "id": "b99ac621-b867-4256-92d7-0d7456d7bbef",
   "metadata": {},
   "outputs": [
    {
     "name": "stdout",
     "output_type": "stream",
     "text": [
      "çift sayıların toplamı: 2550\n"
     ]
    }
   ],
   "source": [
    "# Soru 16: Çift Sayıların Toplamı\n",
    "toplam = 0\n",
    "for i in range(1, 101):\n",
    "    if i % 2 == 0:\n",
    "        toplam += i \n",
    "        \n",
    "print(\"çift sayıların toplamı:\", toplam)"
   ]
  },
  {
   "cell_type": "code",
   "execution_count": 44,
   "id": "fe5882f6-a897-4c5d-823e-0ad1950dfc46",
   "metadata": {},
   "outputs": [
    {
     "name": "stdout",
     "output_type": "stream",
     "text": [
      "tek sayıların çarpımı: 945\n"
     ]
    }
   ],
   "source": [
    "# Soru 17: Tek Sayıların Çarpımı\n",
    "carpım = 1\n",
    "for i in range(1,10):\n",
    "    if i % 2 == 1:\n",
    "        carpım *= i\n",
    "print(\"tek sayıların çarpımı:\", carpım)"
   ]
  },
  {
   "cell_type": "code",
   "execution_count": 48,
   "id": "86f1479b-b01a-4136-836a-0091d8b71936",
   "metadata": {},
   "outputs": [
    {
     "name": "stdout",
     "output_type": "stream",
     "text": [
      "1\n",
      "4\n",
      "9\n",
      "16\n",
      "25\n",
      "36\n",
      "49\n",
      "64\n",
      "81\n"
     ]
    }
   ],
   "source": [
    "# Soru 18: Sayıların Karesi\n",
    "kare = 1\n",
    "for i in range(1,10):\n",
    "    kare = i*i\n",
    "    print(kare)"
   ]
  },
  {
   "cell_type": "code",
   "execution_count": 54,
   "id": "b1fe809c-c323-4dc6-b36a-aa361326bcf6",
   "metadata": {},
   "outputs": [
    {
     "name": "stdin",
     "output_type": "stream",
     "text": [
      "Şifrenizi Giriniz : Python123\n"
     ]
    },
    {
     "name": "stdout",
     "output_type": "stream",
     "text": [
      "Giriş Başarılı\n"
     ]
    }
   ],
   "source": [
    "# Soru 19: Basit Şifre Kontrolü\n",
    "\n",
    "sifre=\"Python123\"\n",
    "sifree =input(\"Şifrenizi Giriniz :\")\n",
    "if sifree == sifre:\n",
    "    print(\"Giriş Başarılı\")\n",
    "else:\n",
    "    print(\"Hatalı şifre\")"
   ]
  },
  {
   "cell_type": "code",
   "execution_count": 56,
   "id": "e752e603-c4c8-4863-9529-0d35a3186551",
   "metadata": {},
   "outputs": [
    {
     "name": "stdin",
     "output_type": "stream",
     "text": [
      "Yaşınızı girin :  21\n"
     ]
    },
    {
     "name": "stdout",
     "output_type": "stream",
     "text": [
      "Reşit\n"
     ]
    }
   ],
   "source": [
    "# Soru 20: Yaş Kontrolü\n",
    "yas = int(input(\"Yaşınızı girin : \"))\n",
    "\n",
    "if yas> 18:\n",
    "    print(\"Reşit\")\n",
    "else:\n",
    "    print(\"Reşit Değil\")"
   ]
  },
  {
   "cell_type": "code",
   "execution_count": 58,
   "id": "68ecfd44-510e-4ed0-9905-7132effcc5ed",
   "metadata": {},
   "outputs": [
    {
     "name": "stdin",
     "output_type": "stream",
     "text": [
      "Birinci sayıyı giriniz:  66\n",
      "İkinci sayıyı giriniz:  66\n",
      "Birinci sayıyı giriniz:  66\n"
     ]
    },
    {
     "name": "stdout",
     "output_type": "stream",
     "text": [
      "Geçti\n"
     ]
    }
   ],
   "source": [
    "# Soru 21: Not Ortalaması \n",
    "sayi1 = int(input(\"Birinci sayıyı giriniz: \"))\n",
    "sayi2 = int(input(\"İkinci sayıyı giriniz: \"))\n",
    "sayi3 = int(input(\"Üçüncü sayıyı giriniz: \"))\n",
    "\n",
    "if (sayi1+sayi2+sayi3)/3 > 50:\n",
    "    print(\"Geçti\")\n",
    "else :\n",
    "    print(\"Kaldı\")"
   ]
  },
  {
   "cell_type": "code",
   "execution_count": 68,
   "id": "566b7113-0cff-4a85-805a-04ecdb55fcb5",
   "metadata": {},
   "outputs": [
    {
     "name": "stdin",
     "output_type": "stream",
     "text": [
      "Boyunuzu metre cinsinden giriniz (örn: 1.85):  170\n",
      "Kilonuzu giriniz:  61\n"
     ]
    },
    {
     "name": "stdout",
     "output_type": "stream",
     "text": [
      "Normal kilolu\n"
     ]
    }
   ],
   "source": [
    "# Soru 22: Vücut Kitle İndeksi\n",
    "\n",
    "boy = float(input(\"Boyunuzu metre cinsinden giriniz (örn: 1.85): \"))\n",
    "kilo = float(input(\"Kilonuzu giriniz: \"))\n",
    "\n",
    "vki = kilo / (boy ** 2) \n",
    "\n",
    "if vki > 25:\n",
    "    print(\"Fazla kilolu\")\n",
    "else:\n",
    "    print(\"Normal kilolu\")"
   ]
  },
  {
   "cell_type": "code",
   "execution_count": 70,
   "id": "6cb12142-beed-4450-90c5-144dbf9651f3",
   "metadata": {},
   "outputs": [
    {
     "name": "stdin",
     "output_type": "stream",
     "text": [
      "Birinci sayıyı giriniz:  24\n",
      "İkinci sayıyı giriniz:  2\n"
     ]
    },
    {
     "name": "stdout",
     "output_type": "stream",
     "text": [
      "İşlem Seçiniz:\n",
      "1 - Toplama (+)\n",
      "2 - Çıkarma (-)\n",
      "3 - Çarpma (*)\n",
      "4 - Bölme (/)\n"
     ]
    },
    {
     "name": "stdin",
     "output_type": "stream",
     "text": [
      "Seçiminiz (1/2/3/4):  1\n"
     ]
    },
    {
     "name": "stdout",
     "output_type": "stream",
     "text": [
      "Sonuç: 26.0\n"
     ]
    }
   ],
   "source": [
    "# Soru 23: Dört İşlem Menüsü \n",
    "sayi1 = float(input(\"Birinci sayıyı giriniz: \"))\n",
    "sayi2 = float(input(\"İkinci sayıyı giriniz: \"))\n",
    "\n",
    "print(\"İşlem Seçiniz:\")\n",
    "print(\"1 - Toplama (+)\")\n",
    "print(\"2 - Çıkarma (-)\")\n",
    "print(\"3 - Çarpma (*)\")\n",
    "print(\"4 - Bölme (/)\")\n",
    "\n",
    "islem = input(\"Seçiminiz (1/2/3/4): \")\n",
    "\n",
    "match islem:\n",
    "    case \"1\":\n",
    "        print(\"Sonuç:\", sayi1 + sayi2)\n",
    "    case \"2\":\n",
    "        print(\"Sonuç:\", sayi1 - sayi2)\n",
    "    case \"3\":\n",
    "        print(\"Sonuç:\", sayi1 * sayi2)\n",
    "    case \"4\":\n",
    "        if sayi2 != 0:\n",
    "            print(\"Sonuç:\", sayi1 / sayi2)\n",
    "        else:\n",
    "            print(\"Hata: Bir sayı sıfıra bölünemez!\")\n",
    "    case _:\n",
    "        print(\"Geçersiz işlem seçimi!\")"
   ]
  },
  {
   "cell_type": "code",
   "execution_count": 73,
   "id": "12e2df42-89f5-449e-93b7-bdb93c5b33ee",
   "metadata": {},
   "outputs": [
    {
     "name": "stdin",
     "output_type": "stream",
     "text": [
      "Birinci sayıyı giriniz:  24\n",
      "İkinci sayıyı giriniz:  56\n",
      "Üçüncü sayıyı giriniz:  75\n",
      "Dördüncü sayıyı giriniz:  99\n"
     ]
    },
    {
     "name": "stdout",
     "output_type": "stream",
     "text": [
      "En küçük sayı: 24\n"
     ]
    }
   ],
   "source": [
    "# Soru 24: Sayıların En Küçüğü\n",
    "sayi1 = int(input(\"Birinci sayıyı giriniz: \"))\n",
    "sayi2 = int(input(\"İkinci sayıyı giriniz: \"))\n",
    "sayi3 = int(input(\"Üçüncü sayıyı giriniz: \"))\n",
    "sayi4 = int(input(\"Dördüncü sayıyı giriniz: \"))\n",
    "\n",
    "en_kucuk = sayi1\n",
    "\n",
    "# Diğer sayılarla karşılaştır\n",
    "if sayi2 < en_kucuk:\n",
    "    en_kucuk = sayi2\n",
    "if sayi3 < en_kucuk:\n",
    "    en_kucuk = sayi3\n",
    "if sayi4 < en_kucuk:\n",
    "    en_kucuk = sayi4\n",
    "\n",
    "print(\"En küçük sayı:\", en_kucuk)"
   ]
  },
  {
   "cell_type": "code",
   "execution_count": 75,
   "id": "e2d39565-437a-497a-b668-46103c735d2f",
   "metadata": {},
   "outputs": [
    {
     "name": "stdin",
     "output_type": "stream",
     "text": [
      "Birinci sayıyı giriniz:  23\n",
      "İkinci sayıyı giriniz:  25\n",
      "Üçüncü sayıyı giriniz:  27\n"
     ]
    },
    {
     "name": "stdout",
     "output_type": "stream",
     "text": [
      "Küçükten büyüğe sıralama: 23 25 27\n"
     ]
    }
   ],
   "source": [
    "# Soru 25: Artan Sıralama \n",
    "sayi1 = int(input(\"Birinci sayıyı giriniz: \"))\n",
    "sayi2 = int(input(\"İkinci sayıyı giriniz: \"))\n",
    "sayi3 = int(input(\"Üçüncü sayıyı giriniz: \"))\n",
    "\n",
    "if sayi1 > sayi2:\n",
    "    sayi1, sayi2 = sayi2, sayi1 \n",
    "if sayi1 > sayi3:\n",
    "    sayi1, sayi3 = sayi3, sayi1  \n",
    "if sayi2 > sayi3:\n",
    "    sayi2, sayi3 = sayi3, sayi2 \n",
    "\n",
    "print(\"Küçükten büyüğe sıralama:\", sayi1, sayi2, sayi3)"
   ]
  },
  {
   "cell_type": "code",
   "execution_count": 4,
   "id": "8d0f340d-29fe-40b0-85b1-304a943f7a48",
   "metadata": {},
   "outputs": [
    {
     "name": "stdin",
     "output_type": "stream",
     "text": [
      "Birinci sayıyı giriniz:  5\n"
     ]
    },
    {
     "name": "stdout",
     "output_type": "stream",
     "text": [
      "15\n"
     ]
    }
   ],
   "source": [
    "# Soru 26: Sayıların Toplamı (While ile) \n",
    "sayi1 = int(input(\"Birinci sayıyı giriniz: \"))\n",
    "toplam = 0\n",
    "\n",
    "while sayi1 > 0:\n",
    "    toplam += sayi1\n",
    "    sayi1 -=1\n",
    "print(toplam)"
   ]
  },
  {
   "cell_type": "code",
   "execution_count": 7,
   "id": "9752d8f6-075a-428b-86a3-e22e1d7d8a1c",
   "metadata": {},
   "outputs": [
    {
     "name": "stdout",
     "output_type": "stream",
     "text": [
      "120\n"
     ]
    }
   ],
   "source": [
    "# Soru 27: Sayıların Çarpımı \n",
    "carp=1\n",
    "for i in range(1,6):\n",
    "    carp *= i  \n",
    "\n",
    "print(carp)"
   ]
  },
  {
   "cell_type": "code",
   "execution_count": 13,
   "id": "c08784cd-a517-48a2-bfd1-0b624b72f084",
   "metadata": {},
   "outputs": [
    {
     "name": "stdout",
     "output_type": "stream",
     "text": [
      "Sayıların karelerinin toplamı: 385\n"
     ]
    }
   ],
   "source": [
    "# Soru 28: Sayıların Karesini Toplama\n",
    "toplam = 0\n",
    "\n",
    "for i in range(1,11):\n",
    "    toplam += i * i\n",
    "\n",
    "print(\"Sayıların karelerinin toplamı:\", toplam)"
   ]
  },
  {
   "cell_type": "code",
   "execution_count": 23,
   "id": "b5528618-da4a-4340-8de5-5c091183a6b7",
   "metadata": {},
   "outputs": [
    {
     "name": "stdin",
     "output_type": "stream",
     "text": [
      "Birinci sayıyı giriniz:  5\n"
     ]
    },
    {
     "name": "stdout",
     "output_type": "stream",
     "text": [
      "225\n"
     ]
    }
   ],
   "source": [
    "# Soru 29: Sayıların Küpünü Toplama\n",
    "sayi1 = int(input(\"Birinci sayıyı giriniz: \"))\n",
    "toplam = 0\n",
    "\n",
    "for i in range(1, sayi1 + 1 ):\n",
    "    toplam += i **3 \n",
    "print(toplam)"
   ]
  },
  {
   "cell_type": "code",
   "execution_count": 24,
   "id": "d4ead545-80ca-411f-ad47-3908d803ff48",
   "metadata": {},
   "outputs": [
    {
     "name": "stdout",
     "output_type": "stream",
     "text": [
      "15\n",
      "30\n",
      "45\n",
      "60\n",
      "75\n",
      "90\n",
      "Sayac : 6\n"
     ]
    }
   ],
   "source": [
    "# Soru 30: Basit Sayı Sayacı\n",
    "sayac = 0\n",
    "for i in range(1,101):\n",
    "    if i % 3 == 0 and i % 5 == 0 :\n",
    "        sayac += 1\n",
    "        print(i)\n",
    "print(\"Sayac :\", sayac)"
   ]
  },
  {
   "cell_type": "code",
   "execution_count": 26,
   "id": "41649fd9-ae52-414b-99c0-eb36a04feeed",
   "metadata": {},
   "outputs": [
    {
     "name": "stdin",
     "output_type": "stream",
     "text": [
      "Sınav notunuzu giriniz (0-100):  100\n"
     ]
    },
    {
     "name": "stdout",
     "output_type": "stream",
     "text": [
      "Harf Notu: A\n"
     ]
    }
   ],
   "source": [
    "# Soru 31: Not Harfini Belirleme\n",
    "notu = int(input(\"Sınav notunuzu giriniz (0-100): \"))\n",
    "\n",
    "if 90 <= notu <= 100:\n",
    "    print(\"Harf Notu: A\")\n",
    "elif 80 <= notu < 90:\n",
    "    print(\"Harf Notu: B\")\n",
    "elif 70 <= notu < 80:\n",
    "    print(\"Harf Notu: C\")\n",
    "elif 60 <= notu < 70:\n",
    "    print(\"Harf Notu: D\")\n",
    "elif 0 <= notu < 60:\n",
    "    print(\"Harf Notu: F\")\n",
    "else:\n",
    "    print(\"Geçersiz not! Lütfen 0-100 arasında bir değer girin.\")"
   ]
  },
  {
   "cell_type": "code",
   "execution_count": 5,
   "id": "b6849e1f-194b-47cf-bb54-2211cc3548f0",
   "metadata": {},
   "outputs": [
    {
     "name": "stdin",
     "output_type": "stream",
     "text": [
      "Birinci sayıyı giriniz:  1\n",
      "İkinci sayıyı giriniz:  1\n",
      "Üçüncü sayıyı giriniz:  1\n"
     ]
    },
    {
     "name": "stdout",
     "output_type": "stream",
     "text": [
      "Tüm sayılar eşit\n"
     ]
    }
   ],
   "source": [
    "# Soru 32: Üç Sayının Karşılaştırılması\n",
    "\n",
    "sayi1 = int(input(\"Birinci sayıyı giriniz: \"))\n",
    "sayi2 = int(input(\"İkinci sayıyı giriniz: \"))\n",
    "sayi3 = int(input(\"Üçüncü sayıyı giriniz: \"))\n",
    "\n",
    "if sayi1 == sayi2 ==sayi3:\n",
    "    print(\"Tüm sayılar eşit\")\n",
    "elif (sayi1==sayi2 and sayi1!=sayi3) or (sayi1 == sayi3 and sayi1 !=sayi2):\n",
    "    print(\"İki sayı eşit\")\n",
    "else:\n",
    "    print(\"Hiçbiri eşit değil”\")"
   ]
  },
  {
   "cell_type": "code",
   "execution_count": 6,
   "id": "91f7fa65-8b6f-44ae-a839-19526e27fb54",
   "metadata": {},
   "outputs": [
    {
     "name": "stdin",
     "output_type": "stream",
     "text": [
      "Bir yıl giriniz:  200\n"
     ]
    },
    {
     "name": "stdout",
     "output_type": "stream",
     "text": [
      "Girilen yil artık yıl değildir\n"
     ]
    }
   ],
   "source": [
    "# Soru 33: Artık Yıl Kontrolü\n",
    "yil = int(input(\"Bir yıl giriniz: \"))\n",
    "\n",
    "if (yil % 4 == 0 and yil % 100 != 0) or (yil % 400 == 0):\n",
    "    print(\"Girilen yıl artık yıldır\")\n",
    "else:\n",
    "    print(\"Girilen yil artık yıl değildir\")"
   ]
  },
  {
   "cell_type": "code",
   "execution_count": 9,
   "id": "86ea87b1-a32c-4c19-948c-c0c49edf8810",
   "metadata": {},
   "outputs": [
    {
     "name": "stdin",
     "output_type": "stream",
     "text": [
      "Boyunuzu metre cinsinden giriniz (örn: 1.75):  1.70\n",
      "Kilonuzu kilogram cinsinden giriniz:  61\n"
     ]
    },
    {
     "name": "stdout",
     "output_type": "stream",
     "text": [
      "BMI: 21.11 - Normal\n"
     ]
    }
   ],
   "source": [
    "# Soru 34: BMI Kategorisi\n",
    "boy = float(input(\"Boyunuzu metre cinsinden giriniz (örn: 1.75): \"))\n",
    "kilo = float(input(\"Kilonuzu kilogram cinsinden giriniz: \"))\n",
    "\n",
    "bmi = kilo / (boy ** 2)  \n",
    "\n",
    "if bmi < 18.5:\n",
    "    print(\"BMI:\", round(bmi, 2), \"- Zayıf\")\n",
    "elif 18.5 <= bmi < 25:\n",
    "    print(\"BMI:\", round(bmi, 2), \"- Normal\")\n",
    "elif 25 <= bmi < 30:\n",
    "    print(\"BMI:\", round(bmi, 2), \"- Fazla Kilolu\")\n",
    "else:\n",
    "    print(\"BMI:\", round(bmi, 2), \"- Obez\")\n"
   ]
  },
  {
   "cell_type": "code",
   "execution_count": 11,
   "id": "4ed3f65e-dbff-48e7-b047-0a3a870c71f8",
   "metadata": {},
   "outputs": [
    {
     "name": "stdin",
     "output_type": "stream",
     "text": [
      "Birinci kenarı giriniz:  30\n",
      "İkinci kenarı giriniz:  30\n",
      "Üçüncü kenarı giriniz:  30\n"
     ]
    },
    {
     "name": "stdout",
     "output_type": "stream",
     "text": [
      "Eşkenar Üçgen\n"
     ]
    }
   ],
   "source": [
    "# Soru 35: Üçgen Türü Belirleme \n",
    "kenar1 = float(input(\"Birinci kenarı giriniz: \"))\n",
    "kenar2 = float(input(\"İkinci kenarı giriniz: \"))\n",
    "kenar3 = float(input(\"Üçüncü kenarı giriniz: \"))\n",
    "\n",
    "if (kenar1 + kenar2 > kenar3) and (kenar1 + kenar3 > kenar2) and (kenar2 + kenar3 > kenar1):\n",
    "    if kenar1 == kenar2 == kenar3:\n",
    "        print(\"Eşkenar Üçgen\")\n",
    "    elif kenar1 == kenar2 or kenar1 == kenar3 or kenar2 == kenar3:\n",
    "        print(\"İkizkenar Üçgen\")\n",
    "    else:\n",
    "        print(\"Çeşitkenar Üçgen\")\n",
    "else:\n",
    "    print(\"Üçgen değil\")"
   ]
  },
  {
   "cell_type": "code",
   "execution_count": 13,
   "id": "bb10cdd6-40eb-467e-be45-d4d1b2160a69",
   "metadata": {},
   "outputs": [
    {
     "name": "stdin",
     "output_type": "stream",
     "text": [
      "Yaşınızı giriniz:  21\n"
     ]
    },
    {
     "name": "stdout",
     "output_type": "stream",
     "text": [
      "Bilet ücreti: 20 TL\n"
     ]
    }
   ],
   "source": [
    "# Soru 36: Yaş ve Bilet Fiyatı \n",
    "yas = int(input(\"Yaşınızı giriniz: \"))\n",
    "\n",
    "if yas >= 0 and yas <= 5:\n",
    "    print(\"Bilet ücreti: Ücretsiz\")\n",
    "elif 6 <= yas <= 18:\n",
    "    print(\"Bilet ücreti: 10 TL\")\n",
    "elif 19 <= yas <= 64:\n",
    "    print(\"Bilet ücreti: 20 TL\")\n",
    "elif yas >= 65:\n",
    "    print(\"Bilet ücreti: 15 TL\")\n",
    "else:\n",
    "    print(\"Geçersiz yaş girdiniz\")"
   ]
  },
  {
   "cell_type": "code",
   "execution_count": 16,
   "id": "c25d0194-3050-4a96-8be0-456c4a081d28",
   "metadata": {},
   "outputs": [
    {
     "name": "stdin",
     "output_type": "stream",
     "text": [
      "Hava durmunu girin (güneşli, yağmurlu, karlı) güneşli\n",
      "Sıcaklık (°C) :  25\n"
     ]
    },
    {
     "name": "stdout",
     "output_type": "stream",
     "text": [
      "Piknik yapabilirsiniz.\n"
     ]
    }
   ],
   "source": [
    "# Soru 37: Hava Durumu Önerisi\n",
    "hava_durumu = input(\"Hava durmunu girin (güneşli, yağmurlu, karlı)\")\n",
    "sicaklik = int(input(\"Sıcaklık (°C) : \"))\n",
    "\n",
    "if hava_durumu == \"güneşli\" and sicaklik >= 25:\n",
    "    print(\"Piknik yapabilirsiniz.\")\n",
    "elif hava_durumu == \"yağmurlu\":\n",
    "    print(\"Şemsiye almayı unutmayın.\")\n",
    "elif hava_durumu == \"karlı\" and sicaklik < 0:\n",
    "    print(\"Kayak yapmaya gidebilirsiniz.\")\n",
    "else:\n",
    "    print(\"Evde kalabilirsiniz.\")\n"
   ]
  },
  {
   "cell_type": "code",
   "execution_count": 17,
   "id": "f04ce274-b42c-4771-b422-dc2e381bb4a5",
   "metadata": {},
   "outputs": [
    {
     "name": "stdin",
     "output_type": "stream",
     "text": [
      "bir sayı giriniz : 2\n"
     ]
    },
    {
     "name": "stdout",
     "output_type": "stream",
     "text": [
      "Pozitif\n"
     ]
    }
   ],
   "source": [
    "# Soru 38: Sayının Pozitif, Negatif veya Sıfır Olup Olmadığını Kontrol Etme\n",
    "# SORU 2 İLE AYNI SORU \n",
    "sayi1 = int(input(\"bir sayı giriniz :\" ))\n",
    "\n",
    "if sayi1 > 0:\n",
    "    print(\"Pozitif\")\n",
    "elif sayi1 <0:\n",
    "    print(\"Negatif\")\n",
    "else:\n",
    "    print(\"Sıfır\")"
   ]
  },
  {
   "cell_type": "code",
   "execution_count": 18,
   "id": "844976fd-2946-49a1-8a5d-7c056e33553e",
   "metadata": {},
   "outputs": [
    {
     "name": "stdin",
     "output_type": "stream",
     "text": [
      "Birinci sayıyı giriniz:  21\n",
      "İkinci sayıyı giriniz:  23\n"
     ]
    },
    {
     "name": "stdout",
     "output_type": "stream",
     "text": [
      "İkinci sayı büyük\n"
     ]
    }
   ],
   "source": [
    "# Soru 39: İki Sayının Karşılaştırılması\n",
    "sayi1 = int(input(\"Birinci sayıyı giriniz: \"))\n",
    "sayi2 = int(input(\"İkinci sayıyı giriniz: \"))\n",
    "\n",
    "if sayi1 > sayi2:\n",
    "    print(\"Birinci sayı büyük\")\n",
    "elif sayi2 > sayi1:\n",
    "    print(\"İkinci sayı büyük\")\n",
    "else:\n",
    "    print(\"Sayılar eşit\")\n"
   ]
  },
  {
   "cell_type": "code",
   "execution_count": 27,
   "id": "9cecf05f-3108-47e8-9ce5-a12bddef5114",
   "metadata": {},
   "outputs": [
    {
     "name": "stdin",
     "output_type": "stream",
     "text": [
      "Alışveriş tutarınızı girin:  100\n",
      "Üye iseniz 'üye', değilseniz 'non-üye' yazın:  üye\n"
     ]
    },
    {
     "name": "stdout",
     "output_type": "stream",
     "text": [
      "Üye olduğunuz için %10 indirim uygulandı.\n",
      "İndirimli toplam tutar: 90.0 TL\n"
     ]
    }
   ],
   "source": [
    "# Soru 40: Üyelik Durumu ve İndirim\n",
    "tutar = float(input(\"Alışveriş tutarınızı girin: \"))\n",
    "uyelik_durumu = input(\"Üye iseniz 'üye', değilseniz 'non-üye' yazın: \")\n",
    "\n",
    "if uyelik_durumu == \"üye\":\n",
    "    indirimli_tutar = tutar * 0.90  # %10 indirim\n",
    "    print(\"Üye olduğunuz için %10 indirim uygulandı.\")\n",
    "else:\n",
    "    indirimli_tutar = tutar * 0.95  # %5 indirim\n",
    "    print(\"Üye olmadığınız için %5 indirim uygulandı.\")\n",
    "\n",
    "print(f\"İndirimli toplam tutar: {indirimli_tutar:} TL\")"
   ]
  },
  {
   "cell_type": "code",
   "execution_count": null,
   "id": "d7c2f1b0-5791-4181-8a68-9bca16583777",
   "metadata": {},
   "outputs": [],
   "source": []
  }
 ],
 "metadata": {
  "kernelspec": {
   "display_name": "Python 3 (ipykernel)",
   "language": "python",
   "name": "python3"
  },
  "language_info": {
   "codemirror_mode": {
    "name": "ipython",
    "version": 3
   },
   "file_extension": ".py",
   "mimetype": "text/x-python",
   "name": "python",
   "nbconvert_exporter": "python",
   "pygments_lexer": "ipython3",
   "version": "3.10.8"
  }
 },
 "nbformat": 4,
 "nbformat_minor": 5
}
